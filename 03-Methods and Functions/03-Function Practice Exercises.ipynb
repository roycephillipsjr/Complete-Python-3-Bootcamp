{
 "cells": [
  {
   "cell_type": "markdown",
   "metadata": {},
   "source": [
    "___\n",
    "\n",
    "<a href='https://www.udemy.com/user/joseportilla/'><img src='../Pierian_Data_Logo.png'/></a>\n",
    "___\n",
    "<center><em>Content Copyright by Pierian Data</em></center>"
   ]
  },
  {
   "cell_type": "markdown",
   "metadata": {},
   "source": [
    "# Function Practice Exercises\n",
    "\n",
    "Problems are arranged in increasing difficulty:\n",
    "* Warmup - these can be solved using basic comparisons and methods\n",
    "* Level 1 - these may involve if/then conditional statements and simple methods\n",
    "* Level 2 - these may require iterating over sequences, usually with some kind of loop\n",
    "* Challenging - these will take some creativity to solve"
   ]
  },
  {
   "cell_type": "markdown",
   "metadata": {},
   "source": [
    "## WARMUP SECTION:"
   ]
  },
  {
   "cell_type": "markdown",
   "metadata": {},
   "source": [
    "#### LESSER OF TWO EVENS: Write a function that returns the lesser of two given numbers *if* both numbers are even, but returns the greater if one or both numbers are odd\n",
    "    lesser_of_two_evens(2,4) --> 2\n",
    "    lesser_of_two_evens(2,5) --> 5"
   ]
  },
  {
   "cell_type": "code",
   "execution_count": 1,
   "metadata": {},
   "outputs": [],
   "source": [
    "def lesser_of_two_evens(a,b):\n",
    "    if a%2 == 0 and b%2 == 0:\n",
    "        # BOTH NUMBERS ARE EVEN\n",
    "        if a < b:\n",
    "            result = a\n",
    "        else:\n",
    "            result = b\n",
    "    else:\n",
    "        # ONE OR BOTH NUMBERS ARE ODD\n",
    "        if a > b:\n",
    "            result = a\n",
    "        else:\n",
    "            result = b\n",
    "\n",
    "    return result"
   ]
  },
  {
   "cell_type": "code",
   "execution_count": 2,
   "metadata": {},
   "outputs": [
    {
     "data": {
      "text/plain": [
       "2"
      ]
     },
     "execution_count": 2,
     "metadata": {},
     "output_type": "execute_result"
    }
   ],
   "source": [
    "# Check\n",
    "lesser_of_two_evens(2,4)"
   ]
  },
  {
   "cell_type": "code",
   "execution_count": 3,
   "metadata": {},
   "outputs": [
    {
     "data": {
      "text/plain": [
       "7"
      ]
     },
     "execution_count": 3,
     "metadata": {},
     "output_type": "execute_result"
    }
   ],
   "source": [
    "# Check\n",
    "lesser_of_two_evens(7,5)"
   ]
  },
  {
   "cell_type": "code",
   "execution_count": 4,
   "metadata": {},
   "outputs": [],
   "source": [
    "def lesser_of_two_evens(a,b):\n",
    "    # Checking to see if both numbers are even\n",
    "    if a%2 == 0 and b%2 == 0:\n",
    "        # BOTH NUMBERS ARE EVEN\n",
    "        \n",
    "        # Return the minimum number if it is even\n",
    "        return min(a,b)\n",
    "    else:\n",
    "        # ONE OR BOTH NUMBERS ARE ODD\n",
    "        # Return the maximum number if one or both numbers are odd\n",
    "        return max(a,b)"
   ]
  },
  {
   "cell_type": "code",
   "execution_count": 5,
   "metadata": {},
   "outputs": [
    {
     "data": {
      "text/plain": [
       "5"
      ]
     },
     "execution_count": 5,
     "metadata": {},
     "output_type": "execute_result"
    }
   ],
   "source": [
    "lesser_of_two_evens(2,5)"
   ]
  },
  {
   "cell_type": "code",
   "execution_count": 6,
   "metadata": {},
   "outputs": [
    {
     "data": {
      "text/plain": [
       "2"
      ]
     },
     "execution_count": 6,
     "metadata": {},
     "output_type": "execute_result"
    }
   ],
   "source": [
    "lesser_of_two_evens(2,4)"
   ]
  },
  {
   "cell_type": "markdown",
   "metadata": {},
   "source": [
    "#### ANIMAL CRACKERS: Write a function takes a two-word string and returns True if both words begin with same letter\n",
    "    animal_crackers('Levelheaded Llama') --> True\n",
    "    animal_crackers('Crazy Kangaroo') --> False"
   ]
  },
  {
   "cell_type": "code",
   "execution_count": 7,
   "metadata": {},
   "outputs": [],
   "source": [
    "def animal_crackers(text):\n",
    "    if text.split()[0][0] == text.split()[1][0]:\n",
    "        return True\n",
    "    else:\n",
    "        return False"
   ]
  },
  {
   "cell_type": "code",
   "execution_count": 97,
   "metadata": {},
   "outputs": [],
   "source": [
    "def animal_crackers(text):\n",
    "    return text.lower().split()[0][0] == text.lower().split()[1][0]"
   ]
  },
  {
   "cell_type": "code",
   "execution_count": 98,
   "metadata": {},
   "outputs": [
    {
     "data": {
      "text/plain": [
       "True"
      ]
     },
     "execution_count": 98,
     "metadata": {},
     "output_type": "execute_result"
    }
   ],
   "source": [
    "# Check\n",
    "animal_crackers('Levelheaded Llama')"
   ]
  },
  {
   "cell_type": "code",
   "execution_count": 99,
   "metadata": {},
   "outputs": [
    {
     "data": {
      "text/plain": [
       "False"
      ]
     },
     "execution_count": 99,
     "metadata": {},
     "output_type": "execute_result"
    }
   ],
   "source": [
    "# Check\n",
    "animal_crackers('Crazy Kangaroo')"
   ]
  },
  {
   "cell_type": "code",
   "execution_count": 11,
   "metadata": {},
   "outputs": [],
   "source": [
    "def animal_crackers(text):\n",
    "    wordlist = text.lower().split()\n",
    "    \n",
    "    return wordlist[0][0] == wordlist[1][0]"
   ]
  },
  {
   "cell_type": "code",
   "execution_count": 100,
   "metadata": {
    "scrolled": true
   },
   "outputs": [
    {
     "data": {
      "text/plain": [
       "True"
      ]
     },
     "execution_count": 100,
     "metadata": {},
     "output_type": "execute_result"
    }
   ],
   "source": [
    "animal_crackers('Levelheaded Llama')"
   ]
  },
  {
   "cell_type": "code",
   "execution_count": 101,
   "metadata": {},
   "outputs": [
    {
     "data": {
      "text/plain": [
       "True"
      ]
     },
     "execution_count": 101,
     "metadata": {},
     "output_type": "execute_result"
    }
   ],
   "source": [
    "animal_crackers('Levelheaded llama')"
   ]
  },
  {
   "cell_type": "code",
   "execution_count": 102,
   "metadata": {},
   "outputs": [
    {
     "data": {
      "text/plain": [
       "False"
      ]
     },
     "execution_count": 102,
     "metadata": {},
     "output_type": "execute_result"
    }
   ],
   "source": [
    "animal_crackers('Crazy kangaroo')"
   ]
  },
  {
   "cell_type": "markdown",
   "metadata": {},
   "source": [
    "#### MAKES TWENTY: Given two integers, return True if the sum of the integers is 20 *or* if one of the integers is 20. If not, return False\n",
    "\n",
    "    makes_twenty(20,10) --> True\n",
    "    makes_twenty(12,8) --> True\n",
    "    makes_twenty(2,3) --> False"
   ]
  },
  {
   "cell_type": "code",
   "execution_count": 15,
   "metadata": {},
   "outputs": [],
   "source": [
    "def makes_twenty(n1,n2):\n",
    "    if n1 == 20 or n2 == 20:\n",
    "        return True\n",
    "    elif (n1 + n2) == 20:\n",
    "        return True\n",
    "    else:\n",
    "        return False"
   ]
  },
  {
   "cell_type": "code",
   "execution_count": 16,
   "metadata": {},
   "outputs": [
    {
     "data": {
      "text/plain": [
       "True"
      ]
     },
     "execution_count": 16,
     "metadata": {},
     "output_type": "execute_result"
    }
   ],
   "source": [
    "# Check\n",
    "makes_twenty(20,10)"
   ]
  },
  {
   "cell_type": "code",
   "execution_count": 17,
   "metadata": {},
   "outputs": [
    {
     "data": {
      "text/plain": [
       "True"
      ]
     },
     "execution_count": 17,
     "metadata": {},
     "output_type": "execute_result"
    }
   ],
   "source": [
    "# Check\n",
    "makes_twenty(12,8)"
   ]
  },
  {
   "cell_type": "code",
   "execution_count": 18,
   "metadata": {},
   "outputs": [
    {
     "data": {
      "text/plain": [
       "False"
      ]
     },
     "execution_count": 18,
     "metadata": {},
     "output_type": "execute_result"
    }
   ],
   "source": [
    "# Check\n",
    "makes_twenty(2,3)"
   ]
  },
  {
   "cell_type": "code",
   "execution_count": 19,
   "metadata": {},
   "outputs": [],
   "source": [
    "def makes_twenty(n1,n2):\n",
    "    return (n1+n2) == 20 or n1==20 or n2==20"
   ]
  },
  {
   "cell_type": "code",
   "execution_count": 20,
   "metadata": {},
   "outputs": [
    {
     "data": {
      "text/plain": [
       "True"
      ]
     },
     "execution_count": 20,
     "metadata": {},
     "output_type": "execute_result"
    }
   ],
   "source": [
    "# Check\n",
    "makes_twenty(20,10)"
   ]
  },
  {
   "cell_type": "code",
   "execution_count": 21,
   "metadata": {},
   "outputs": [
    {
     "data": {
      "text/plain": [
       "True"
      ]
     },
     "execution_count": 21,
     "metadata": {},
     "output_type": "execute_result"
    }
   ],
   "source": [
    "# Check\n",
    "makes_twenty(12,8)"
   ]
  },
  {
   "cell_type": "code",
   "execution_count": 22,
   "metadata": {},
   "outputs": [
    {
     "data": {
      "text/plain": [
       "False"
      ]
     },
     "execution_count": 22,
     "metadata": {},
     "output_type": "execute_result"
    }
   ],
   "source": [
    "# Check\n",
    "makes_twenty(2,3)"
   ]
  },
  {
   "cell_type": "markdown",
   "metadata": {},
   "source": [
    "# LEVEL 1 PROBLEMS"
   ]
  },
  {
   "cell_type": "markdown",
   "metadata": {},
   "source": [
    "#### OLD MACDONALD: Write a function that capitalizes the first and fourth letters of a name\n",
    "     \n",
    "    old_macdonald('macdonald') --> MacDonald\n",
    "    \n",
    "Note: `'macdonald'.capitalize()` returns `'Macdonald'`"
   ]
  },
  {
   "cell_type": "code",
   "execution_count": 11,
   "metadata": {},
   "outputs": [],
   "source": [
    "def old_macdonald(name):\n",
    "    letters = []\n",
    "    \n",
    "    for index,letter in enumerate(name):\n",
    "        if index == 0 or index == 3:\n",
    "            letters.append(letter.upper())\n",
    "        else:\n",
    "            letters.append(letter)\n",
    "    \n",
    "    return ''.join(letters)"
   ]
  },
  {
   "cell_type": "code",
   "execution_count": 12,
   "metadata": {},
   "outputs": [
    {
     "data": {
      "text/plain": [
       "'MacDonald'"
      ]
     },
     "execution_count": 12,
     "metadata": {},
     "output_type": "execute_result"
    }
   ],
   "source": [
    "# Check\n",
    "old_macdonald('macdonald')"
   ]
  },
  {
   "cell_type": "code",
   "execution_count": 103,
   "metadata": {},
   "outputs": [],
   "source": [
    "def old_macdonald(name):\n",
    "    \n",
    "    # Using slicing to get the outcome\n",
    "    first_letter = name[0]\n",
    "    inbetween = name[1:3]\n",
    "    fourth_letter = name[3]\n",
    "    rest = name[4:]\n",
    "    \n",
    "    # This function is using upper\n",
    "    return first_letter.upper() + inbetween + fourth_letter.upper() + rest"
   ]
  },
  {
   "cell_type": "code",
   "execution_count": 104,
   "metadata": {},
   "outputs": [
    {
     "data": {
      "text/plain": [
       "'MacDonald'"
      ]
     },
     "execution_count": 104,
     "metadata": {},
     "output_type": "execute_result"
    }
   ],
   "source": [
    "# Check\n",
    "old_macdonald('macdonald')"
   ]
  },
  {
   "cell_type": "code",
   "execution_count": 105,
   "metadata": {},
   "outputs": [],
   "source": [
    "def old_macdonald(name):\n",
    "    \n",
    "    first_half = name[:3]\n",
    "    second_half = name[3:]\n",
    "    \n",
    "    # This function is using lower\n",
    "    return first_half.capitalize() + second_half.capitalize()"
   ]
  },
  {
   "cell_type": "code",
   "execution_count": 106,
   "metadata": {},
   "outputs": [
    {
     "data": {
      "text/plain": [
       "'MacDonald'"
      ]
     },
     "execution_count": 106,
     "metadata": {},
     "output_type": "execute_result"
    }
   ],
   "source": [
    "# Check\n",
    "old_macdonald('macdonald')"
   ]
  },
  {
   "cell_type": "markdown",
   "metadata": {},
   "source": [
    "#### MASTER YODA: Given a sentence, return a sentence with the words reversed\n",
    "\n",
    "    master_yoda('I am home') --> 'home am I'\n",
    "    master_yoda('We are ready') --> 'ready are We'\n",
    "    \n",
    "Note: The .join() method may be useful here. The .join() method allows you to join together strings in a list with some connector string. For example, some uses of the .join() method:\n",
    "\n",
    "    >>> \"--\".join(['a','b','c'])\n",
    "    >>> 'a--b--c'\n",
    "\n",
    "This means if you had a list of words you wanted to turn back into a sentence, you could just join them with a single space string:\n",
    "\n",
    "    >>> \" \".join(['Hello','world'])\n",
    "    >>> \"Hello world\""
   ]
  },
  {
   "cell_type": "code",
   "execution_count": 13,
   "metadata": {},
   "outputs": [],
   "source": [
    "def master_yoda(text):\n",
    "    split_text = text.split()\n",
    "    \n",
    "    split_text.reverse()\n",
    "    \n",
    "    return \" \".join(split_text)"
   ]
  },
  {
   "cell_type": "code",
   "execution_count": 14,
   "metadata": {},
   "outputs": [
    {
     "data": {
      "text/plain": [
       "'home am I'"
      ]
     },
     "execution_count": 14,
     "metadata": {},
     "output_type": "execute_result"
    }
   ],
   "source": [
    "# Check\n",
    "master_yoda('I am home')"
   ]
  },
  {
   "cell_type": "code",
   "execution_count": 15,
   "metadata": {},
   "outputs": [
    {
     "data": {
      "text/plain": [
       "'ready are We'"
      ]
     },
     "execution_count": 15,
     "metadata": {},
     "output_type": "execute_result"
    }
   ],
   "source": [
    "# Check\n",
    "master_yoda('We are ready')"
   ]
  },
  {
   "cell_type": "code",
   "execution_count": 29,
   "metadata": {},
   "outputs": [],
   "source": [
    "def master_yoda(text):\n",
    "    wordlist = text.split()\n",
    "    \n",
    "    reverse_word = wordlist[::-1]\n",
    "    \n",
    "    return ' '.join(reverse_word)"
   ]
  },
  {
   "cell_type": "code",
   "execution_count": 30,
   "metadata": {},
   "outputs": [
    {
     "data": {
      "text/plain": [
       "'home am I'"
      ]
     },
     "execution_count": 30,
     "metadata": {},
     "output_type": "execute_result"
    }
   ],
   "source": [
    "# Check\n",
    "master_yoda('I am home')"
   ]
  },
  {
   "cell_type": "code",
   "execution_count": 31,
   "metadata": {},
   "outputs": [
    {
     "data": {
      "text/plain": [
       "'ready are We'"
      ]
     },
     "execution_count": 31,
     "metadata": {},
     "output_type": "execute_result"
    }
   ],
   "source": [
    "# Check\n",
    "master_yoda('We are ready')"
   ]
  },
  {
   "cell_type": "markdown",
   "metadata": {},
   "source": [
    "#### ALMOST THERE: Given an integer n, return True if n is within 10 of either 100 or 200\n",
    "\n",
    "    almost_there(90) --> True\n",
    "    almost_there(104) --> True\n",
    "    almost_there(150) --> False\n",
    "    almost_there(209) --> True\n",
    "    \n",
    "NOTE: `abs(num)` returns the absolute value of a number"
   ]
  },
  {
   "cell_type": "code",
   "execution_count": 34,
   "metadata": {},
   "outputs": [],
   "source": [
    "def almost_there(n):\n",
    "    return abs(n - 100) <= 10 or abs(n - 200) <= 10\n"
   ]
  },
  {
   "cell_type": "code",
   "execution_count": 35,
   "metadata": {},
   "outputs": [
    {
     "data": {
      "text/plain": [
       "True"
      ]
     },
     "execution_count": 35,
     "metadata": {},
     "output_type": "execute_result"
    }
   ],
   "source": [
    "almost_there(90)"
   ]
  },
  {
   "cell_type": "code",
   "execution_count": 36,
   "metadata": {},
   "outputs": [
    {
     "data": {
      "text/plain": [
       "True"
      ]
     },
     "execution_count": 36,
     "metadata": {},
     "output_type": "execute_result"
    }
   ],
   "source": [
    "# Check\n",
    "almost_there(104)"
   ]
  },
  {
   "cell_type": "code",
   "execution_count": 37,
   "metadata": {},
   "outputs": [
    {
     "data": {
      "text/plain": [
       "False"
      ]
     },
     "execution_count": 37,
     "metadata": {},
     "output_type": "execute_result"
    }
   ],
   "source": [
    "# Check\n",
    "almost_there(150)"
   ]
  },
  {
   "cell_type": "code",
   "execution_count": 38,
   "metadata": {},
   "outputs": [
    {
     "data": {
      "text/plain": [
       "True"
      ]
     },
     "execution_count": 38,
     "metadata": {},
     "output_type": "execute_result"
    }
   ],
   "source": [
    "# Check\n",
    "almost_there(209)"
   ]
  },
  {
   "cell_type": "code",
   "execution_count": 39,
   "metadata": {},
   "outputs": [],
   "source": [
    "def almost_there(n):\n",
    "    (abs(100-n) <= 10) or (abs(200-n) <= 10)"
   ]
  },
  {
   "cell_type": "code",
   "execution_count": 40,
   "metadata": {},
   "outputs": [],
   "source": [
    "almost_there(90)"
   ]
  },
  {
   "cell_type": "code",
   "execution_count": 41,
   "metadata": {},
   "outputs": [],
   "source": [
    "# Check\n",
    "almost_there(104)"
   ]
  },
  {
   "cell_type": "code",
   "execution_count": 42,
   "metadata": {},
   "outputs": [],
   "source": [
    "# Check\n",
    "almost_there(150)"
   ]
  },
  {
   "cell_type": "code",
   "execution_count": 43,
   "metadata": {},
   "outputs": [],
   "source": [
    "# Check\n",
    "almost_there(209)"
   ]
  },
  {
   "cell_type": "markdown",
   "metadata": {},
   "source": [
    "# LEVEL 2 PROBLEMS"
   ]
  },
  {
   "cell_type": "markdown",
   "metadata": {},
   "source": [
    "#### FIND 33: \n",
    "\n",
    "Given a list of ints, return True if the array contains a 3 next to a 3 somewhere.\n",
    "\n",
    "    has_33([1, 3, 3]) → True\n",
    "    has_33([1, 3, 1, 3]) → False\n",
    "    has_33([3, 1, 3]) → False"
   ]
  },
  {
   "cell_type": "code",
   "execution_count": 46,
   "metadata": {},
   "outputs": [],
   "source": [
    "def has_33(nums):\n",
    "    \n",
    "    # Start an empty list\n",
    "    num_to_str = []\n",
    "    \n",
    "    # Turn int into strings\n",
    "    for num in nums:\n",
    "        num_to_str.append(str(num))\n",
    "    \n",
    "    # Check to see if string '33' is in the list\n",
    "    \n",
    "    return '33' in ''.join(num_to_str)"
   ]
  },
  {
   "cell_type": "code",
   "execution_count": 47,
   "metadata": {},
   "outputs": [
    {
     "data": {
      "text/plain": [
       "True"
      ]
     },
     "execution_count": 47,
     "metadata": {},
     "output_type": "execute_result"
    }
   ],
   "source": [
    "# Check\n",
    "has_33([1, 3, 3])"
   ]
  },
  {
   "cell_type": "code",
   "execution_count": 48,
   "metadata": {},
   "outputs": [
    {
     "data": {
      "text/plain": [
       "False"
      ]
     },
     "execution_count": 48,
     "metadata": {},
     "output_type": "execute_result"
    }
   ],
   "source": [
    "# Check\n",
    "has_33([1, 3, 1, 3])"
   ]
  },
  {
   "cell_type": "code",
   "execution_count": 49,
   "metadata": {},
   "outputs": [
    {
     "data": {
      "text/plain": [
       "False"
      ]
     },
     "execution_count": 49,
     "metadata": {},
     "output_type": "execute_result"
    }
   ],
   "source": [
    "# Check\n",
    "has_33([3, 1, 3])"
   ]
  },
  {
   "cell_type": "code",
   "execution_count": 50,
   "metadata": {},
   "outputs": [
    {
     "data": {
      "text/plain": [
       "True"
      ]
     },
     "execution_count": 50,
     "metadata": {},
     "output_type": "execute_result"
    }
   ],
   "source": [
    "has_33([3, 1, 3, 4, 6, 4, 3, 3, 5, 6, 7, 9])"
   ]
  },
  {
   "cell_type": "code",
   "execution_count": 54,
   "metadata": {},
   "outputs": [],
   "source": [
    "def has_33(nums):\n",
    "    \n",
    "    # Looping through the list\n",
    "    # Looping all the up to the second last index because there needs to be a number to compare to\n",
    "    for i in range(0, len(nums)-1):\n",
    "        \n",
    "        # Comparison operator\n",
    "        # On the original index and then that index + 1\n",
    "        if nums[i] == 3 and nums[i+1] == 3:\n",
    "            return True\n",
    "        \n",
    "    return False"
   ]
  },
  {
   "cell_type": "code",
   "execution_count": 55,
   "metadata": {},
   "outputs": [
    {
     "data": {
      "text/plain": [
       "True"
      ]
     },
     "execution_count": 55,
     "metadata": {},
     "output_type": "execute_result"
    }
   ],
   "source": [
    "# Check\n",
    "has_33([1, 3, 3])"
   ]
  },
  {
   "cell_type": "code",
   "execution_count": 56,
   "metadata": {},
   "outputs": [
    {
     "data": {
      "text/plain": [
       "False"
      ]
     },
     "execution_count": 56,
     "metadata": {},
     "output_type": "execute_result"
    }
   ],
   "source": [
    "# Check\n",
    "has_33([1, 3, 1, 3])"
   ]
  },
  {
   "cell_type": "markdown",
   "metadata": {},
   "source": [
    "#### PAPER DOLL: Given a string, return a string where for every character in the original there are three characters\n",
    "    paper_doll('Hello') --> 'HHHeeellllllooo'\n",
    "    paper_doll('Mississippi') --> 'MMMiiissssssiiippppppiii'"
   ]
  },
  {
   "cell_type": "code",
   "execution_count": 59,
   "metadata": {},
   "outputs": [],
   "source": [
    "def paper_doll(text):\n",
    "    letters = []\n",
    "    for letter in text:\n",
    "        letters.append(letter*3)\n",
    "        \n",
    "    return ''.join(letters)"
   ]
  },
  {
   "cell_type": "code",
   "execution_count": 60,
   "metadata": {},
   "outputs": [
    {
     "data": {
      "text/plain": [
       "'HHHeeellllllooo'"
      ]
     },
     "execution_count": 60,
     "metadata": {},
     "output_type": "execute_result"
    }
   ],
   "source": [
    "# Check\n",
    "paper_doll('Hello')"
   ]
  },
  {
   "cell_type": "code",
   "execution_count": 61,
   "metadata": {},
   "outputs": [
    {
     "data": {
      "text/plain": [
       "'MMMiiissssssiiissssssiiippppppiii'"
      ]
     },
     "execution_count": 61,
     "metadata": {},
     "output_type": "execute_result"
    }
   ],
   "source": [
    "# Check\n",
    "paper_doll('Mississippi')"
   ]
  },
  {
   "cell_type": "code",
   "execution_count": 59,
   "metadata": {},
   "outputs": [],
   "source": [
    "def paper_doll(text):\n",
    "    result = ''\n",
    "    \n",
    "    for char in text:\n",
    "        result += char*3\n",
    "    return result"
   ]
  },
  {
   "cell_type": "code",
   "execution_count": 60,
   "metadata": {},
   "outputs": [
    {
     "data": {
      "text/plain": [
       "'HHHeeellllllooo'"
      ]
     },
     "execution_count": 60,
     "metadata": {},
     "output_type": "execute_result"
    }
   ],
   "source": [
    "# Check\n",
    "paper_doll('Hello')"
   ]
  },
  {
   "cell_type": "code",
   "execution_count": 61,
   "metadata": {},
   "outputs": [
    {
     "data": {
      "text/plain": [
       "'MMMiiissssssiiissssssiiippppppiii'"
      ]
     },
     "execution_count": 61,
     "metadata": {},
     "output_type": "execute_result"
    }
   ],
   "source": [
    "# Check\n",
    "paper_doll('Mississippi')"
   ]
  },
  {
   "cell_type": "markdown",
   "metadata": {},
   "source": [
    "#### BLACKJACK: Given three integers between 1 and 11, if their sum is less than or equal to 21, return their sum. If their sum exceeds 21 *and* there's an eleven, reduce the total sum by 10. Finally, if the sum (even after adjustment) exceeds 21, return 'BUST'\n",
    "    blackjack(5,6,7) --> 18\n",
    "    blackjack(9,9,9) --> 'BUST'\n",
    "    blackjack(9,9,11) --> 19"
   ]
  },
  {
   "cell_type": "code",
   "execution_count": 62,
   "metadata": {},
   "outputs": [],
   "source": [
    "def blackjack(a,b,c):\n",
    "    if (a + b + c) <= 21:\n",
    "        return (a+b+c)\n",
    "    \n",
    "    elif a == 11:\n",
    "        a = a - 10\n",
    "        if (a + b + c) <= 21:\n",
    "            return (a+b+c)\n",
    "    elif b == 11:\n",
    "        b = b - 10\n",
    "        if (a + b + c) <= 21:\n",
    "            return (a+b+c)\n",
    "    elif c == 11:\n",
    "        c = c - 10\n",
    "        if (a + b + c) <= 21:\n",
    "            return (a+b+c)\n",
    "    else:\n",
    "        return 'BUST'"
   ]
  },
  {
   "cell_type": "code",
   "execution_count": 63,
   "metadata": {},
   "outputs": [
    {
     "data": {
      "text/plain": [
       "18"
      ]
     },
     "execution_count": 63,
     "metadata": {},
     "output_type": "execute_result"
    }
   ],
   "source": [
    "# Check\n",
    "blackjack(5,6,7)"
   ]
  },
  {
   "cell_type": "code",
   "execution_count": 64,
   "metadata": {},
   "outputs": [
    {
     "data": {
      "text/plain": [
       "'BUST'"
      ]
     },
     "execution_count": 64,
     "metadata": {},
     "output_type": "execute_result"
    }
   ],
   "source": [
    "# Check\n",
    "blackjack(9,9,9)"
   ]
  },
  {
   "cell_type": "code",
   "execution_count": 65,
   "metadata": {},
   "outputs": [
    {
     "data": {
      "text/plain": [
       "19"
      ]
     },
     "execution_count": 65,
     "metadata": {},
     "output_type": "execute_result"
    }
   ],
   "source": [
    "# Check\n",
    "blackjack(9,9,11)"
   ]
  },
  {
   "cell_type": "code",
   "execution_count": 110,
   "metadata": {},
   "outputs": [
    {
     "data": {
      "text/plain": [
       "10"
      ]
     },
     "execution_count": 110,
     "metadata": {},
     "output_type": "execute_result"
    }
   ],
   "source": [
    "sum([1,2,3,4])"
   ]
  },
  {
   "cell_type": "code",
   "execution_count": 62,
   "metadata": {},
   "outputs": [],
   "source": [
    "def blackjack(a,b,c):\n",
    "    \n",
    "    if sum([a,b,c]) <= 21:\n",
    "        return sum([a,b,c])\n",
    "    \n",
    "    elif 11 in [a,b,c] and sum([a,b,c])-10 <= 21:\n",
    "        return sum([a,b,c])-10\n",
    "    else:\n",
    "        return \"BUST\""
   ]
  },
  {
   "cell_type": "code",
   "execution_count": 63,
   "metadata": {},
   "outputs": [
    {
     "data": {
      "text/plain": [
       "19"
      ]
     },
     "execution_count": 63,
     "metadata": {},
     "output_type": "execute_result"
    }
   ],
   "source": [
    "# Check\n",
    "blackjack(9,9,11)"
   ]
  },
  {
   "cell_type": "code",
   "execution_count": 64,
   "metadata": {},
   "outputs": [
    {
     "data": {
      "text/plain": [
       "'BUST'"
      ]
     },
     "execution_count": 64,
     "metadata": {},
     "output_type": "execute_result"
    }
   ],
   "source": [
    "# Check\n",
    "blackjack(9,9,9)"
   ]
  },
  {
   "cell_type": "markdown",
   "metadata": {},
   "source": [
    "#### SUMMER OF '69: Return the sum of the numbers in the array, except ignore sections of numbers starting with a 6 and extending to the next 9 (every 6 will be followed by at least one 9). Return 0 for no numbers.\n",
    " \n",
    "    summer_69([1, 3, 5]) --> 9\n",
    "    summer_69([4, 5, 6, 7, 8, 9]) --> 9\n",
    "    summer_69([2, 1, 6, 9, 11]) --> 14"
   ]
  },
  {
   "cell_type": "code",
   "execution_count": 65,
   "metadata": {},
   "outputs": [],
   "source": [
    "def summer_69(arr):\n",
    "    # Creating a total count to add up the totals.\n",
    "    total = 0\n",
    "    \n",
    "    # Creating a boolean statement to use in the while loop\n",
    "    add = True\n",
    "    \n",
    "    # a for loop to run through the list\n",
    "    for num in arr:\n",
    "        # Creating a while loop to keep looping through while a condition is true\n",
    "        while add:\n",
    "            # While there is no 6 keep looping through and add to the total\n",
    "            if num != 6:\n",
    "                total += num\n",
    "                break\n",
    "            # Once there is a 6 change the variable add to False\n",
    "            else:\n",
    "                add = False\n",
    "        \n",
    "        # Basically while not True (or False!) if the number is not 9 break and continue\n",
    "        while not add:\n",
    "            if num != 9:\n",
    "                break\n",
    "            # Once a 9 shows up change the variable back to True and continue through the list\n",
    "            else:\n",
    "                add = True\n",
    "                break\n",
    "    # Return the total\n",
    "    return total"
   ]
  },
  {
   "cell_type": "code",
   "execution_count": 66,
   "metadata": {},
   "outputs": [
    {
     "data": {
      "text/plain": [
       "9"
      ]
     },
     "execution_count": 66,
     "metadata": {},
     "output_type": "execute_result"
    }
   ],
   "source": [
    "# Check\n",
    "summer_69([1, 3, 5])"
   ]
  },
  {
   "cell_type": "code",
   "execution_count": 67,
   "metadata": {},
   "outputs": [
    {
     "data": {
      "text/plain": [
       "9"
      ]
     },
     "execution_count": 67,
     "metadata": {},
     "output_type": "execute_result"
    }
   ],
   "source": [
    "# Check\n",
    "summer_69([4, 5, 6, 7, 8, 9])"
   ]
  },
  {
   "cell_type": "code",
   "execution_count": 68,
   "metadata": {},
   "outputs": [
    {
     "data": {
      "text/plain": [
       "14"
      ]
     },
     "execution_count": 68,
     "metadata": {},
     "output_type": "execute_result"
    }
   ],
   "source": [
    "# Check\n",
    "summer_69([2, 1, 6, 9, 11])"
   ]
  },
  {
   "cell_type": "code",
   "execution_count": 69,
   "metadata": {},
   "outputs": [
    {
     "data": {
      "text/plain": [
       "14"
      ]
     },
     "execution_count": 69,
     "metadata": {},
     "output_type": "execute_result"
    }
   ],
   "source": [
    "# Check\n",
    "summer_69([2, 1, 6, 8, 4, 3, 4, 2, 9, 11])"
   ]
  },
  {
   "cell_type": "markdown",
   "metadata": {},
   "source": [
    "# CHALLENGING PROBLEMS"
   ]
  },
  {
   "cell_type": "markdown",
   "metadata": {},
   "source": [
    "#### SPY GAME: Write a function that takes in a list of integers and returns True if it contains 007 in order\n",
    "\n",
    "     spy_game([1,2,4,0,0,7,5]) --> True\n",
    "     spy_game([1,0,2,4,0,5,7]) --> True\n",
    "     spy_game([1,7,2,0,4,5,0]) --> False\n"
   ]
  },
  {
   "cell_type": "code",
   "execution_count": 79,
   "metadata": {},
   "outputs": [],
   "source": [
    "def spy_game(nums):\n",
    "    bond = []\n",
    "    \n",
    "    for n in nums:\n",
    "        if n == 0:\n",
    "            bond.append(str(n))\n",
    "        elif n == 7:\n",
    "            bond.append(str(n))\n",
    "            \n",
    "    return '007' in ''.join(bond)\n"
   ]
  },
  {
   "cell_type": "code",
   "execution_count": 80,
   "metadata": {},
   "outputs": [
    {
     "data": {
      "text/plain": [
       "True"
      ]
     },
     "execution_count": 80,
     "metadata": {},
     "output_type": "execute_result"
    }
   ],
   "source": [
    "# Check\n",
    "spy_game([1,2,4,0,0,7,5])"
   ]
  },
  {
   "cell_type": "code",
   "execution_count": 81,
   "metadata": {},
   "outputs": [
    {
     "data": {
      "text/plain": [
       "True"
      ]
     },
     "execution_count": 81,
     "metadata": {},
     "output_type": "execute_result"
    }
   ],
   "source": [
    "# Check\n",
    "spy_game([1,0,2,4,0,5,7])"
   ]
  },
  {
   "cell_type": "code",
   "execution_count": 82,
   "metadata": {},
   "outputs": [
    {
     "data": {
      "text/plain": [
       "False"
      ]
     },
     "execution_count": 82,
     "metadata": {},
     "output_type": "execute_result"
    }
   ],
   "source": [
    "# Check\n",
    "spy_game([1,7,2,0,4,5,0])"
   ]
  },
  {
   "cell_type": "code",
   "execution_count": 83,
   "metadata": {},
   "outputs": [],
   "source": [
    "def spy_game(nums):\n",
    "    \n",
    "    # Have a variable with the numbers you want\n",
    "    code = [0,0,7,'x']\n",
    "    \n",
    "    # Run through the list\n",
    "    for num in nums:\n",
    "        # If the proper variable shows up at index 0 then it pops it off\n",
    "        # Then the variable at index 1 becomes index 0 and continues through the loop\n",
    "        if num == code[0]:\n",
    "            code.pop(0)\n",
    "    # If the len of variable code is == 1 then that means 007 was found        \n",
    "    return len(code) == 1"
   ]
  },
  {
   "cell_type": "code",
   "execution_count": 84,
   "metadata": {},
   "outputs": [
    {
     "data": {
      "text/plain": [
       "True"
      ]
     },
     "execution_count": 84,
     "metadata": {},
     "output_type": "execute_result"
    }
   ],
   "source": [
    "# Check\n",
    "spy_game([1,2,4,0,0,7,5])"
   ]
  },
  {
   "cell_type": "code",
   "execution_count": 85,
   "metadata": {},
   "outputs": [
    {
     "data": {
      "text/plain": [
       "True"
      ]
     },
     "execution_count": 85,
     "metadata": {},
     "output_type": "execute_result"
    }
   ],
   "source": [
    "# Check\n",
    "spy_game([1,0,2,4,0,5,7])"
   ]
  },
  {
   "cell_type": "code",
   "execution_count": 86,
   "metadata": {},
   "outputs": [
    {
     "data": {
      "text/plain": [
       "False"
      ]
     },
     "execution_count": 86,
     "metadata": {},
     "output_type": "execute_result"
    }
   ],
   "source": [
    "# Check\n",
    "spy_game([1,7,2,0,4,5,0])"
   ]
  },
  {
   "cell_type": "markdown",
   "metadata": {},
   "source": [
    "#### COUNT PRIMES: Write a function that returns the *number* of prime numbers that exist up to and including a given number\n",
    "    count_primes(100) --> 25\n",
    "\n",
    "By convention, 0 and 1 are not prime."
   ]
  },
  {
   "cell_type": "code",
   "execution_count": 113,
   "metadata": {},
   "outputs": [],
   "source": [
    "def count_primes(num):\n",
    "    some_num = []\n",
    "    for n in range(2, num+1):\n",
    "        for x in range(2,n):\n",
    "            if n % x == 0:\n",
    "                some_num.append(n)\n",
    "#             if n % x == 0:\n",
    "#                 some_num.append(n)\n",
    "#     print(set(some_num))\n",
    "    return num - len(set(some_num))\n",
    "                "
   ]
  },
  {
   "cell_type": "code",
   "execution_count": 114,
   "metadata": {},
   "outputs": [
    {
     "data": {
      "text/plain": [
       "26"
      ]
     },
     "execution_count": 114,
     "metadata": {},
     "output_type": "execute_result"
    }
   ],
   "source": [
    "# Check\n",
    "count_primes(100)"
   ]
  },
  {
   "cell_type": "code",
   "execution_count": 194,
   "metadata": {},
   "outputs": [],
   "source": [
    "num = 100"
   ]
  },
  {
   "cell_type": "code",
   "execution_count": 195,
   "metadata": {},
   "outputs": [],
   "source": [
    "some_num = []\n",
    "for n in range(2, num+1):\n",
    "    for x in range(2,n):\n",
    "#         print(n%x)\n",
    "#         print(n%(x+2))\n",
    "        if n % x == 0:\n",
    "            some_num.append(n)\n",
    "#             print('maybe', n)\n",
    "#     print(n)"
   ]
  },
  {
   "cell_type": "code",
   "execution_count": 198,
   "metadata": {
    "scrolled": true
   },
   "outputs": [
    {
     "data": {
      "text/plain": [
       "74"
      ]
     },
     "execution_count": 198,
     "metadata": {},
     "output_type": "execute_result"
    }
   ],
   "source": [
    "len(set(some_num))"
   ]
  },
  {
   "cell_type": "code",
   "execution_count": 154,
   "metadata": {},
   "outputs": [],
   "source": [
    "def count_primes(num):\n",
    "    \n",
    "    # Check for 0 or 1 input\n",
    "    if num < 2:\n",
    "        return 0\n",
    "    \n",
    "    ##############\n",
    "    # 2 or greater\n",
    "    ##############\n",
    "    \n",
    "    # Store our prime numbers\n",
    "    primes = [2]\n",
    "    # Counter going up to input num\n",
    "    x = 3\n",
    "    \n",
    "    # X is going through every number up to input number\n",
    "    while x<= num:\n",
    "        # Check if x is prime\n",
    "        # y is looping through the range of x in incraments of 2\n",
    "        for y in range(3,x,2):\n",
    "            # If the mod is ever 0 add 2 to x break the while loop and start at the beginning of the for loop\n",
    "            if x%y == 0:\n",
    "                x += 2\n",
    "                break\n",
    "        # If it goes the for loop and never has a mod of 0 then it is prime and add it to the list!\n",
    "        else:\n",
    "            primes.append(x)\n",
    "            x+=2\n",
    "    print(primes)\n",
    "    return len(primes)"
   ]
  },
  {
   "cell_type": "code",
   "execution_count": 160,
   "metadata": {},
   "outputs": [
    {
     "name": "stdout",
     "output_type": "stream",
     "text": [
      "3\n"
     ]
    }
   ],
   "source": [
    "for n in range(3,5,2):\n",
    "    print(n)"
   ]
  },
  {
   "cell_type": "code",
   "execution_count": 153,
   "metadata": {},
   "outputs": [
    {
     "name": "stdout",
     "output_type": "stream",
     "text": [
      "x: 5   y: 3\n",
      "x: 7   y: 3\n",
      "x: 7   y: 5\n",
      "x: 11   y: 3\n",
      "x: 11   y: 5\n",
      "x: 11   y: 7\n",
      "x: 11   y: 9\n",
      "x: 13   y: 3\n",
      "x: 13   y: 5\n",
      "x: 13   y: 7\n",
      "x: 13   y: 9\n",
      "x: 13   y: 11\n",
      "x: 17   y: 3\n",
      "x: 17   y: 5\n",
      "x: 17   y: 7\n",
      "x: 17   y: 9\n",
      "x: 17   y: 11\n",
      "x: 17   y: 13\n",
      "x: 17   y: 15\n",
      "x: 19   y: 3\n",
      "x: 19   y: 5\n",
      "x: 19   y: 7\n",
      "x: 19   y: 9\n",
      "x: 19   y: 11\n",
      "x: 19   y: 13\n",
      "x: 19   y: 15\n",
      "x: 19   y: 17\n",
      "x: 23   y: 3\n",
      "x: 23   y: 5\n",
      "x: 23   y: 7\n",
      "x: 23   y: 9\n",
      "x: 23   y: 11\n",
      "x: 23   y: 13\n",
      "x: 23   y: 15\n",
      "x: 23   y: 17\n",
      "x: 23   y: 19\n",
      "x: 23   y: 21\n",
      "x: 25   y: 3\n",
      "x: 29   y: 3\n",
      "x: 29   y: 5\n",
      "x: 29   y: 7\n",
      "x: 29   y: 9\n",
      "x: 29   y: 11\n",
      "x: 29   y: 13\n",
      "x: 29   y: 15\n",
      "x: 29   y: 17\n",
      "x: 29   y: 19\n",
      "x: 29   y: 21\n",
      "x: 29   y: 23\n",
      "x: 29   y: 25\n",
      "x: 29   y: 27\n",
      "x: 31   y: 3\n",
      "x: 31   y: 5\n",
      "x: 31   y: 7\n",
      "x: 31   y: 9\n",
      "x: 31   y: 11\n",
      "x: 31   y: 13\n",
      "x: 31   y: 15\n",
      "x: 31   y: 17\n",
      "x: 31   y: 19\n",
      "x: 31   y: 21\n",
      "x: 31   y: 23\n",
      "x: 31   y: 25\n",
      "x: 31   y: 27\n",
      "x: 31   y: 29\n",
      "x: 35   y: 3\n",
      "x: 37   y: 3\n",
      "x: 37   y: 5\n",
      "x: 37   y: 7\n",
      "x: 37   y: 9\n",
      "x: 37   y: 11\n",
      "x: 37   y: 13\n",
      "x: 37   y: 15\n",
      "x: 37   y: 17\n",
      "x: 37   y: 19\n",
      "x: 37   y: 21\n",
      "x: 37   y: 23\n",
      "x: 37   y: 25\n",
      "x: 37   y: 27\n",
      "x: 37   y: 29\n",
      "x: 37   y: 31\n",
      "x: 37   y: 33\n",
      "x: 37   y: 35\n",
      "x: 41   y: 3\n",
      "x: 41   y: 5\n",
      "x: 41   y: 7\n",
      "x: 41   y: 9\n",
      "x: 41   y: 11\n",
      "x: 41   y: 13\n",
      "x: 41   y: 15\n",
      "x: 41   y: 17\n",
      "x: 41   y: 19\n",
      "x: 41   y: 21\n",
      "x: 41   y: 23\n",
      "x: 41   y: 25\n",
      "x: 41   y: 27\n",
      "x: 41   y: 29\n",
      "x: 41   y: 31\n",
      "x: 41   y: 33\n",
      "x: 41   y: 35\n",
      "x: 41   y: 37\n",
      "x: 41   y: 39\n",
      "x: 43   y: 3\n",
      "x: 43   y: 5\n",
      "x: 43   y: 7\n",
      "x: 43   y: 9\n",
      "x: 43   y: 11\n",
      "x: 43   y: 13\n",
      "x: 43   y: 15\n",
      "x: 43   y: 17\n",
      "x: 43   y: 19\n",
      "x: 43   y: 21\n",
      "x: 43   y: 23\n",
      "x: 43   y: 25\n",
      "x: 43   y: 27\n",
      "x: 43   y: 29\n",
      "x: 43   y: 31\n",
      "x: 43   y: 33\n",
      "x: 43   y: 35\n",
      "x: 43   y: 37\n",
      "x: 43   y: 39\n",
      "x: 43   y: 41\n",
      "x: 47   y: 3\n",
      "x: 47   y: 5\n",
      "x: 47   y: 7\n",
      "x: 47   y: 9\n",
      "x: 47   y: 11\n",
      "x: 47   y: 13\n",
      "x: 47   y: 15\n",
      "x: 47   y: 17\n",
      "x: 47   y: 19\n",
      "x: 47   y: 21\n",
      "x: 47   y: 23\n",
      "x: 47   y: 25\n",
      "x: 47   y: 27\n",
      "x: 47   y: 29\n",
      "x: 47   y: 31\n",
      "x: 47   y: 33\n",
      "x: 47   y: 35\n",
      "x: 47   y: 37\n",
      "x: 47   y: 39\n",
      "x: 47   y: 41\n",
      "x: 47   y: 43\n",
      "x: 47   y: 45\n",
      "x: 49   y: 3\n",
      "x: 49   y: 5\n",
      "x: 53   y: 3\n",
      "x: 53   y: 5\n",
      "x: 53   y: 7\n",
      "x: 53   y: 9\n",
      "x: 53   y: 11\n",
      "x: 53   y: 13\n",
      "x: 53   y: 15\n",
      "x: 53   y: 17\n",
      "x: 53   y: 19\n",
      "x: 53   y: 21\n",
      "x: 53   y: 23\n",
      "x: 53   y: 25\n",
      "x: 53   y: 27\n",
      "x: 53   y: 29\n",
      "x: 53   y: 31\n",
      "x: 53   y: 33\n",
      "x: 53   y: 35\n",
      "x: 53   y: 37\n",
      "x: 53   y: 39\n",
      "x: 53   y: 41\n",
      "x: 53   y: 43\n",
      "x: 53   y: 45\n",
      "x: 53   y: 47\n",
      "x: 53   y: 49\n",
      "x: 53   y: 51\n",
      "x: 55   y: 3\n",
      "x: 59   y: 3\n",
      "x: 59   y: 5\n",
      "x: 59   y: 7\n",
      "x: 59   y: 9\n",
      "x: 59   y: 11\n",
      "x: 59   y: 13\n",
      "x: 59   y: 15\n",
      "x: 59   y: 17\n",
      "x: 59   y: 19\n",
      "x: 59   y: 21\n",
      "x: 59   y: 23\n",
      "x: 59   y: 25\n",
      "x: 59   y: 27\n",
      "x: 59   y: 29\n",
      "x: 59   y: 31\n",
      "x: 59   y: 33\n",
      "x: 59   y: 35\n",
      "x: 59   y: 37\n",
      "x: 59   y: 39\n",
      "x: 59   y: 41\n",
      "x: 59   y: 43\n",
      "x: 59   y: 45\n",
      "x: 59   y: 47\n",
      "x: 59   y: 49\n",
      "x: 59   y: 51\n",
      "x: 59   y: 53\n",
      "x: 59   y: 55\n",
      "x: 59   y: 57\n",
      "x: 61   y: 3\n",
      "x: 61   y: 5\n",
      "x: 61   y: 7\n",
      "x: 61   y: 9\n",
      "x: 61   y: 11\n",
      "x: 61   y: 13\n",
      "x: 61   y: 15\n",
      "x: 61   y: 17\n",
      "x: 61   y: 19\n",
      "x: 61   y: 21\n",
      "x: 61   y: 23\n",
      "x: 61   y: 25\n",
      "x: 61   y: 27\n",
      "x: 61   y: 29\n",
      "x: 61   y: 31\n",
      "x: 61   y: 33\n",
      "x: 61   y: 35\n",
      "x: 61   y: 37\n",
      "x: 61   y: 39\n",
      "x: 61   y: 41\n",
      "x: 61   y: 43\n",
      "x: 61   y: 45\n",
      "x: 61   y: 47\n",
      "x: 61   y: 49\n",
      "x: 61   y: 51\n",
      "x: 61   y: 53\n",
      "x: 61   y: 55\n",
      "x: 61   y: 57\n",
      "x: 61   y: 59\n",
      "x: 65   y: 3\n",
      "x: 67   y: 3\n",
      "x: 67   y: 5\n",
      "x: 67   y: 7\n",
      "x: 67   y: 9\n",
      "x: 67   y: 11\n",
      "x: 67   y: 13\n",
      "x: 67   y: 15\n",
      "x: 67   y: 17\n",
      "x: 67   y: 19\n",
      "x: 67   y: 21\n",
      "x: 67   y: 23\n",
      "x: 67   y: 25\n",
      "x: 67   y: 27\n",
      "x: 67   y: 29\n",
      "x: 67   y: 31\n",
      "x: 67   y: 33\n",
      "x: 67   y: 35\n",
      "x: 67   y: 37\n",
      "x: 67   y: 39\n",
      "x: 67   y: 41\n",
      "x: 67   y: 43\n",
      "x: 67   y: 45\n",
      "x: 67   y: 47\n",
      "x: 67   y: 49\n",
      "x: 67   y: 51\n",
      "x: 67   y: 53\n",
      "x: 67   y: 55\n",
      "x: 67   y: 57\n",
      "x: 67   y: 59\n",
      "x: 67   y: 61\n",
      "x: 67   y: 63\n",
      "x: 67   y: 65\n",
      "x: 71   y: 3\n",
      "x: 71   y: 5\n",
      "x: 71   y: 7\n",
      "x: 71   y: 9\n",
      "x: 71   y: 11\n",
      "x: 71   y: 13\n",
      "x: 71   y: 15\n",
      "x: 71   y: 17\n",
      "x: 71   y: 19\n",
      "x: 71   y: 21\n",
      "x: 71   y: 23\n",
      "x: 71   y: 25\n",
      "x: 71   y: 27\n",
      "x: 71   y: 29\n",
      "x: 71   y: 31\n",
      "x: 71   y: 33\n",
      "x: 71   y: 35\n",
      "x: 71   y: 37\n",
      "x: 71   y: 39\n",
      "x: 71   y: 41\n",
      "x: 71   y: 43\n",
      "x: 71   y: 45\n",
      "x: 71   y: 47\n",
      "x: 71   y: 49\n",
      "x: 71   y: 51\n",
      "x: 71   y: 53\n",
      "x: 71   y: 55\n",
      "x: 71   y: 57\n",
      "x: 71   y: 59\n",
      "x: 71   y: 61\n",
      "x: 71   y: 63\n",
      "x: 71   y: 65\n",
      "x: 71   y: 67\n",
      "x: 71   y: 69\n",
      "x: 73   y: 3\n",
      "x: 73   y: 5\n",
      "x: 73   y: 7\n",
      "x: 73   y: 9\n",
      "x: 73   y: 11\n",
      "x: 73   y: 13\n",
      "x: 73   y: 15\n",
      "x: 73   y: 17\n",
      "x: 73   y: 19\n",
      "x: 73   y: 21\n",
      "x: 73   y: 23\n",
      "x: 73   y: 25\n",
      "x: 73   y: 27\n",
      "x: 73   y: 29\n",
      "x: 73   y: 31\n",
      "x: 73   y: 33\n",
      "x: 73   y: 35\n",
      "x: 73   y: 37\n",
      "x: 73   y: 39\n",
      "x: 73   y: 41\n",
      "x: 73   y: 43\n",
      "x: 73   y: 45\n",
      "x: 73   y: 47\n",
      "x: 73   y: 49\n",
      "x: 73   y: 51\n",
      "x: 73   y: 53\n",
      "x: 73   y: 55\n",
      "x: 73   y: 57\n",
      "x: 73   y: 59\n",
      "x: 73   y: 61\n",
      "x: 73   y: 63\n",
      "x: 73   y: 65\n",
      "x: 73   y: 67\n",
      "x: 73   y: 69\n",
      "x: 73   y: 71\n",
      "x: 77   y: 3\n",
      "x: 77   y: 5\n",
      "x: 79   y: 3\n",
      "x: 79   y: 5\n",
      "x: 79   y: 7\n",
      "x: 79   y: 9\n",
      "x: 79   y: 11\n",
      "x: 79   y: 13\n",
      "x: 79   y: 15\n",
      "x: 79   y: 17\n",
      "x: 79   y: 19\n",
      "x: 79   y: 21\n",
      "x: 79   y: 23\n",
      "x: 79   y: 25\n",
      "x: 79   y: 27\n",
      "x: 79   y: 29\n",
      "x: 79   y: 31\n",
      "x: 79   y: 33\n",
      "x: 79   y: 35\n",
      "x: 79   y: 37\n",
      "x: 79   y: 39\n",
      "x: 79   y: 41\n",
      "x: 79   y: 43\n",
      "x: 79   y: 45\n",
      "x: 79   y: 47\n",
      "x: 79   y: 49\n",
      "x: 79   y: 51\n",
      "x: 79   y: 53\n",
      "x: 79   y: 55\n",
      "x: 79   y: 57\n",
      "x: 79   y: 59\n",
      "x: 79   y: 61\n",
      "x: 79   y: 63\n",
      "x: 79   y: 65\n",
      "x: 79   y: 67\n",
      "x: 79   y: 69\n",
      "x: 79   y: 71\n",
      "x: 79   y: 73\n",
      "x: 79   y: 75\n",
      "x: 79   y: 77\n",
      "x: 83   y: 3\n",
      "x: 83   y: 5\n",
      "x: 83   y: 7\n",
      "x: 83   y: 9\n",
      "x: 83   y: 11\n",
      "x: 83   y: 13\n",
      "x: 83   y: 15\n",
      "x: 83   y: 17\n",
      "x: 83   y: 19\n",
      "x: 83   y: 21\n",
      "x: 83   y: 23\n",
      "x: 83   y: 25\n",
      "x: 83   y: 27\n",
      "x: 83   y: 29\n",
      "x: 83   y: 31\n",
      "x: 83   y: 33\n",
      "x: 83   y: 35\n",
      "x: 83   y: 37\n",
      "x: 83   y: 39\n",
      "x: 83   y: 41\n",
      "x: 83   y: 43\n",
      "x: 83   y: 45\n",
      "x: 83   y: 47\n",
      "x: 83   y: 49\n",
      "x: 83   y: 51\n",
      "x: 83   y: 53\n",
      "x: 83   y: 55\n",
      "x: 83   y: 57\n",
      "x: 83   y: 59\n",
      "x: 83   y: 61\n",
      "x: 83   y: 63\n",
      "x: 83   y: 65\n",
      "x: 83   y: 67\n",
      "x: 83   y: 69\n",
      "x: 83   y: 71\n",
      "x: 83   y: 73\n",
      "x: 83   y: 75\n",
      "x: 83   y: 77\n",
      "x: 83   y: 79\n",
      "x: 83   y: 81\n",
      "x: 85   y: 3\n",
      "x: 89   y: 3\n",
      "x: 89   y: 5\n",
      "x: 89   y: 7\n",
      "x: 89   y: 9\n",
      "x: 89   y: 11\n",
      "x: 89   y: 13\n",
      "x: 89   y: 15\n",
      "x: 89   y: 17\n",
      "x: 89   y: 19\n",
      "x: 89   y: 21\n",
      "x: 89   y: 23\n",
      "x: 89   y: 25\n",
      "x: 89   y: 27\n",
      "x: 89   y: 29\n",
      "x: 89   y: 31\n",
      "x: 89   y: 33\n",
      "x: 89   y: 35\n",
      "x: 89   y: 37\n",
      "x: 89   y: 39\n",
      "x: 89   y: 41\n",
      "x: 89   y: 43\n",
      "x: 89   y: 45\n",
      "x: 89   y: 47\n",
      "x: 89   y: 49\n",
      "x: 89   y: 51\n",
      "x: 89   y: 53\n",
      "x: 89   y: 55\n",
      "x: 89   y: 57\n",
      "x: 89   y: 59\n",
      "x: 89   y: 61\n",
      "x: 89   y: 63\n",
      "x: 89   y: 65\n",
      "x: 89   y: 67\n",
      "x: 89   y: 69\n",
      "x: 89   y: 71\n",
      "x: 89   y: 73\n",
      "x: 89   y: 75\n",
      "x: 89   y: 77\n",
      "x: 89   y: 79\n",
      "x: 89   y: 81\n",
      "x: 89   y: 83\n",
      "x: 89   y: 85\n",
      "x: 89   y: 87\n",
      "x: 91   y: 3\n",
      "x: 91   y: 5\n",
      "x: 95   y: 3\n",
      "x: 97   y: 3\n",
      "x: 97   y: 5\n",
      "x: 97   y: 7\n",
      "x: 97   y: 9\n",
      "x: 97   y: 11\n",
      "x: 97   y: 13\n",
      "x: 97   y: 15\n",
      "x: 97   y: 17\n",
      "x: 97   y: 19\n",
      "x: 97   y: 21\n",
      "x: 97   y: 23\n",
      "x: 97   y: 25\n",
      "x: 97   y: 27\n",
      "x: 97   y: 29\n",
      "x: 97   y: 31\n",
      "x: 97   y: 33\n",
      "x: 97   y: 35\n",
      "x: 97   y: 37\n",
      "x: 97   y: 39\n",
      "x: 97   y: 41\n",
      "x: 97   y: 43\n",
      "x: 97   y: 45\n",
      "x: 97   y: 47\n",
      "x: 97   y: 49\n",
      "x: 97   y: 51\n",
      "x: 97   y: 53\n",
      "x: 97   y: 55\n",
      "x: 97   y: 57\n",
      "x: 97   y: 59\n",
      "x: 97   y: 61\n",
      "x: 97   y: 63\n",
      "x: 97   y: 65\n",
      "x: 97   y: 67\n",
      "x: 97   y: 69\n",
      "x: 97   y: 71\n",
      "x: 97   y: 73\n",
      "x: 97   y: 75\n",
      "x: 97   y: 77\n",
      "x: 97   y: 79\n",
      "x: 97   y: 81\n",
      "x: 97   y: 83\n",
      "x: 97   y: 85\n",
      "x: 97   y: 87\n",
      "x: 97   y: 89\n",
      "x: 97   y: 91\n",
      "x: 97   y: 93\n",
      "x: 97   y: 95\n"
     ]
    }
   ],
   "source": [
    "x = 3\n",
    "primes = [2]\n",
    "while x<=100:\n",
    "    for y in range(3,x,2):\n",
    "        if x%y == 0:\n",
    "            x += 2\n",
    "            break\n",
    "        print('x:', x,\" \",'y:', y)\n",
    "    else:\n",
    "        primes.append(x)\n",
    "        x+=2\n"
   ]
  },
  {
   "cell_type": "code",
   "execution_count": 152,
   "metadata": {},
   "outputs": [
    {
     "name": "stdout",
     "output_type": "stream",
     "text": [
      "[2, 3, 5, 7, 11, 13, 17, 19, 23, 29, 31, 37, 41, 43, 47, 53, 59, 61, 67, 71, 73, 79, 83, 89, 97]\n",
      "25\n"
     ]
    }
   ],
   "source": [
    "print(primes)\n",
    "print(len(primes))"
   ]
  },
  {
   "cell_type": "code",
   "execution_count": 162,
   "metadata": {},
   "outputs": [
    {
     "name": "stdout",
     "output_type": "stream",
     "text": [
      "[2, 3, 5, 7, 11, 13, 17, 19, 23, 29, 31, 37, 41, 43, 47, 53, 59, 61, 67, 71, 73, 79, 83, 89, 97, 101, 103, 107, 109, 113, 127, 131, 137, 139, 149, 151, 157, 163, 167, 173, 179, 181, 191, 193, 197, 199, 211, 223, 227, 229, 233, 239, 241, 251, 257, 263, 269, 271, 277, 281, 283, 293, 307, 311, 313, 317, 331, 337, 347, 349, 353, 359, 367, 373, 379, 383, 389, 397, 401, 409, 419, 421, 431, 433, 439, 443, 449, 457, 461, 463, 467, 479, 487, 491, 499, 503, 509, 521, 523, 541, 547, 557, 563, 569, 571, 577, 587, 593, 599, 601, 607, 613, 617, 619, 631, 641, 643, 647, 653, 659, 661, 673, 677, 683, 691, 701, 709, 719, 727, 733, 739, 743, 751, 757, 761, 769, 773, 787, 797, 809, 811, 821, 823, 827, 829, 839, 853, 857, 859, 863, 877, 881, 883, 887, 907, 911, 919, 929, 937, 941, 947, 953, 967, 971, 977, 983, 991, 997, 1009, 1013, 1019, 1021, 1031, 1033, 1039, 1049, 1051, 1061, 1063, 1069, 1087, 1091, 1093, 1097, 1103, 1109, 1117, 1123, 1129, 1151, 1153, 1163, 1171, 1181, 1187, 1193, 1201, 1213, 1217, 1223, 1229, 1231, 1237, 1249, 1259, 1277, 1279, 1283, 1289, 1291, 1297, 1301, 1303, 1307, 1319, 1321, 1327, 1361, 1367, 1373, 1381, 1399, 1409, 1423, 1427, 1429, 1433, 1439, 1447, 1451, 1453, 1459, 1471, 1481, 1483, 1487, 1489, 1493, 1499, 1511, 1523, 1531, 1543, 1549, 1553, 1559, 1567, 1571, 1579, 1583, 1597, 1601, 1607, 1609, 1613, 1619, 1621, 1627, 1637, 1657, 1663, 1667, 1669, 1693, 1697, 1699, 1709, 1721, 1723, 1733, 1741, 1747, 1753, 1759, 1777, 1783, 1787, 1789, 1801, 1811, 1823, 1831, 1847, 1861, 1867, 1871, 1873, 1877, 1879, 1889, 1901, 1907, 1913, 1931, 1933, 1949, 1951, 1973, 1979, 1987, 1993, 1997, 1999, 2003, 2011, 2017, 2027, 2029, 2039, 2053, 2063, 2069, 2081, 2083, 2087, 2089, 2099, 2111, 2113, 2129, 2131, 2137, 2141, 2143, 2153, 2161, 2179, 2203, 2207, 2213, 2221, 2237, 2239, 2243, 2251, 2267, 2269, 2273, 2281, 2287, 2293, 2297, 2309, 2311, 2333, 2339, 2341, 2347, 2351, 2357, 2371, 2377, 2381, 2383, 2389, 2393, 2399, 2411, 2417, 2423, 2437, 2441, 2447, 2459, 2467, 2473, 2477, 2503, 2521, 2531, 2539, 2543, 2549, 2551, 2557, 2579, 2591, 2593, 2609, 2617, 2621, 2633, 2647, 2657, 2659, 2663, 2671, 2677, 2683, 2687, 2689, 2693, 2699, 2707, 2711, 2713, 2719, 2729, 2731, 2741, 2749, 2753, 2767, 2777, 2789, 2791, 2797, 2801, 2803, 2819, 2833, 2837, 2843, 2851, 2857, 2861, 2879, 2887, 2897, 2903, 2909, 2917, 2927, 2939, 2953, 2957, 2963, 2969, 2971, 2999, 3001, 3011, 3019, 3023, 3037, 3041, 3049, 3061, 3067, 3079, 3083, 3089, 3109, 3119, 3121, 3137, 3163, 3167, 3169, 3181, 3187, 3191, 3203, 3209, 3217, 3221, 3229, 3251, 3253, 3257, 3259, 3271, 3299, 3301, 3307, 3313, 3319, 3323, 3329, 3331, 3343, 3347, 3359, 3361, 3371, 3373, 3389, 3391, 3407, 3413, 3433, 3449, 3457, 3461, 3463, 3467, 3469, 3491, 3499, 3511, 3517, 3527, 3529, 3533, 3539, 3541, 3547, 3557, 3559, 3571, 3581, 3583, 3593, 3607, 3613, 3617, 3623, 3631, 3637, 3643, 3659, 3671, 3673, 3677, 3691, 3697, 3701, 3709, 3719, 3727, 3733, 3739, 3761, 3767, 3769, 3779, 3793, 3797, 3803, 3821, 3823, 3833, 3847, 3851, 3853, 3863, 3877, 3881, 3889, 3907, 3911, 3917, 3919, 3923, 3929, 3931, 3943, 3947, 3967, 3989, 4001, 4003, 4007, 4013, 4019, 4021, 4027, 4049, 4051, 4057, 4073, 4079, 4091, 4093, 4099, 4111, 4127, 4129, 4133, 4139, 4153, 4157, 4159, 4177, 4201, 4211, 4217, 4219, 4229, 4231, 4241, 4243, 4253, 4259, 4261, 4271, 4273, 4283, 4289, 4297, 4327, 4337, 4339, 4349, 4357, 4363, 4373, 4391, 4397, 4409, 4421, 4423, 4441, 4447, 4451, 4457, 4463, 4481, 4483, 4493, 4507, 4513, 4517, 4519, 4523, 4547, 4549, 4561, 4567, 4583, 4591, 4597, 4603, 4621, 4637, 4639, 4643, 4649, 4651, 4657, 4663, 4673, 4679, 4691, 4703, 4721, 4723, 4729, 4733, 4751, 4759, 4783, 4787, 4789, 4793, 4799, 4801, 4813, 4817, 4831, 4861, 4871, 4877, 4889, 4903, 4909, 4919, 4931, 4933, 4937, 4943, 4951, 4957, 4967, 4969, 4973, 4987, 4993, 4999, 5003, 5009, 5011, 5021, 5023, 5039, 5051, 5059, 5077, 5081, 5087, 5099, 5101, 5107, 5113, 5119, 5147, 5153, 5167, 5171, 5179, 5189, 5197, 5209, 5227, 5231, 5233, 5237, 5261, 5273, 5279, 5281, 5297, 5303, 5309, 5323, 5333, 5347, 5351, 5381, 5387, 5393, 5399, 5407, 5413, 5417, 5419, 5431, 5437, 5441, 5443, 5449, 5471, 5477, 5479, 5483, 5501, 5503, 5507, 5519, 5521, 5527, 5531, 5557, 5563, 5569, 5573, 5581, 5591, 5623, 5639, 5641, 5647, 5651, 5653, 5657, 5659, 5669, 5683, 5689, 5693, 5701, 5711, 5717, 5737, 5741, 5743, 5749, 5779, 5783, 5791, 5801, 5807, 5813, 5821, 5827, 5839, 5843, 5849, 5851, 5857, 5861, 5867, 5869, 5879, 5881, 5897, 5903, 5923, 5927, 5939, 5953, 5981, 5987, 6007, 6011, 6029, 6037, 6043, 6047, 6053, 6067, 6073, 6079, 6089, 6091, 6101, 6113, 6121, 6131, 6133, 6143, 6151, 6163, 6173, 6197, 6199, 6203, 6211, 6217, 6221, 6229, 6247, 6257, 6263, 6269, 6271, 6277, 6287, 6299, 6301, 6311, 6317, 6323, 6329, 6337, 6343, 6353, 6359, 6361, 6367, 6373, 6379, 6389, 6397, 6421, 6427, 6449, 6451, 6469, 6473, 6481, 6491, 6521, 6529, 6547, 6551, 6553, 6563, 6569, 6571, 6577, 6581, 6599, 6607, 6619, 6637, 6653, 6659, 6661, 6673, 6679, 6689, 6691, 6701, 6703, 6709, 6719, 6733, 6737, 6761, 6763, 6779, 6781, 6791, 6793, 6803, 6823, 6827, 6829, 6833, 6841, 6857, 6863, 6869, 6871, 6883, 6899, 6907, 6911, 6917, 6947, 6949, 6959, 6961, 6967, 6971, 6977, 6983, 6991, 6997, 7001, 7013, 7019, 7027, 7039, 7043, 7057, 7069, 7079, 7103, 7109, 7121, 7127, 7129, 7151, 7159, 7177, 7187, 7193, 7207, 7211, 7213, 7219, 7229, 7237, 7243, 7247, 7253, 7283, 7297, 7307, 7309, 7321, 7331, 7333, 7349, 7351, 7369, 7393, 7411, 7417, 7433, 7451, 7457, 7459, 7477, 7481, 7487, 7489, 7499, 7507, 7517, 7523, 7529, 7537, 7541, 7547, 7549, 7559, 7561, 7573, 7577, 7583, 7589, 7591, 7603, 7607, 7621, 7639, 7643, 7649, 7669, 7673, 7681, 7687, 7691, 7699, 7703, 7717, 7723, 7727, 7741, 7753, 7757, 7759, 7789, 7793, 7817, 7823, 7829, 7841, 7853, 7867, 7873, 7877, 7879, 7883, 7901, 7907, 7919, 7927, 7933, 7937, 7949, 7951, 7963, 7993, 8009, 8011, 8017, 8039, 8053, 8059, 8069, 8081, 8087, 8089, 8093, 8101, 8111, 8117, 8123, 8147, 8161, 8167, 8171, 8179, 8191, 8209, 8219, 8221, 8231, 8233, 8237, 8243, 8263, 8269, 8273, 8287, 8291, 8293, 8297, 8311, 8317, 8329, 8353, 8363, 8369, 8377, 8387, 8389, 8419, 8423, 8429, 8431, 8443, 8447, 8461, 8467, 8501, 8513, 8521, 8527, 8537, 8539, 8543, 8563, 8573, 8581, 8597, 8599, 8609, 8623, 8627, 8629, 8641, 8647, 8663, 8669, 8677, 8681, 8689, 8693, 8699, 8707, 8713, 8719, 8731, 8737, 8741, 8747, 8753, 8761, 8779, 8783, 8803, 8807, 8819, 8821, 8831, 8837, 8839, 8849, 8861, 8863, 8867, 8887, 8893, 8923, 8929, 8933, 8941, 8951, 8963, 8969, 8971, 8999, 9001, 9007, 9011, 9013, 9029, 9041, 9043, 9049, 9059, 9067, 9091, 9103, 9109, 9127, 9133, 9137, 9151, 9157, 9161, 9173, 9181, 9187, 9199, 9203, 9209, 9221, 9227, 9239, 9241, 9257, 9277, 9281, 9283, 9293, 9311, 9319, 9323, 9337, 9341, 9343, 9349, 9371, 9377, 9391, 9397, 9403, 9413, 9419, 9421, 9431, 9433, 9437, 9439, 9461, 9463, 9467, 9473, 9479, 9491, 9497, 9511, 9521, 9533, 9539, 9547, 9551, 9587, 9601, 9613, 9619, 9623, 9629, 9631, 9643, 9649, 9661, 9677, 9679, 9689, 9697, 9719, 9721, 9733, 9739, 9743, 9749, 9767, 9769, 9781, 9787, 9791, 9803, 9811, 9817, 9829, 9833, 9839, 9851, 9857, 9859, 9871, 9883, 9887, 9901, 9907, 9923, 9929, 9931, 9941, 9949, 9967, 9973]\n"
     ]
    },
    {
     "data": {
      "text/plain": [
       "1229"
      ]
     },
     "execution_count": 162,
     "metadata": {},
     "output_type": "execute_result"
    }
   ],
   "source": [
    "# Check\n",
    "count_primes(10000)"
   ]
  },
  {
   "cell_type": "markdown",
   "metadata": {},
   "source": [
    "### Just for fun:\n",
    "#### PRINT BIG: Write a function that takes in a single letter, and returns a 5x5 representation of that letter\n",
    "    print_big('a')\n",
    "    \n",
    "    out:   *  \n",
    "          * *\n",
    "         *****\n",
    "         *   *\n",
    "         *   *\n",
    "HINT: Consider making a dictionary of possible patterns, and mapping the alphabet to specific 5-line combinations of patterns. <br>For purposes of this exercise, it's ok if your dictionary stops at \"E\"."
   ]
  },
  {
   "cell_type": "code",
   "execution_count": 116,
   "metadata": {},
   "outputs": [],
   "source": [
    "def print_big(letter):\n",
    "    big_letter = {\n",
    "        'a':  '''\n",
    "                 *\n",
    "                * *\n",
    "               *****\n",
    "               *   *\n",
    "               *   *\n",
    "                   ''',\n",
    "        \n",
    "        'b': '''\n",
    "                ****\n",
    "                *   *\n",
    "                ****\n",
    "                *   *\n",
    "                ****\n",
    "                    ''',\n",
    "        \n",
    "        'c': '''\n",
    "                ****\n",
    "                *\n",
    "                *\n",
    "                *\n",
    "                ****\n",
    "                    ''',\n",
    "        \n",
    "        \n",
    "        'd': '''****\n",
    "                *   *\n",
    "                *   *\n",
    "                *   *\n",
    "                ****''',\n",
    "        \n",
    "        'e': '''\n",
    "                *****\n",
    "                *\n",
    "                ***\n",
    "                *\n",
    "                *****\n",
    "                    ''',\n",
    "        'f': '''\n",
    "                *****\n",
    "                *\n",
    "                ***\n",
    "                *\n",
    "                *\n",
    "                    '''\n",
    "            }\n",
    "    print(big_letter[letter])"
   ]
  },
  {
   "cell_type": "code",
   "execution_count": 117,
   "metadata": {},
   "outputs": [
    {
     "name": "stdout",
     "output_type": "stream",
     "text": [
      "\n",
      "                ****\n",
      "                *   *\n",
      "                ****\n",
      "                *   *\n",
      "                ****\n",
      "                    \n"
     ]
    }
   ],
   "source": [
    "print_big('b')"
   ]
  },
  {
   "cell_type": "code",
   "execution_count": 118,
   "metadata": {},
   "outputs": [
    {
     "name": "stdout",
     "output_type": "stream",
     "text": [
      "\n",
      "                 *\n",
      "                * *\n",
      "               *****\n",
      "               *   *\n",
      "               *   *\n",
      "                   \n"
     ]
    }
   ],
   "source": [
    "print_big('a')"
   ]
  },
  {
   "cell_type": "code",
   "execution_count": 119,
   "metadata": {
    "scrolled": true
   },
   "outputs": [
    {
     "name": "stdout",
     "output_type": "stream",
     "text": [
      "\n",
      "                ****\n",
      "                *\n",
      "                *\n",
      "                *\n",
      "                ****\n",
      "                    \n"
     ]
    }
   ],
   "source": [
    "print_big('c')"
   ]
  },
  {
   "cell_type": "code",
   "execution_count": 120,
   "metadata": {},
   "outputs": [
    {
     "name": "stdout",
     "output_type": "stream",
     "text": [
      "\n",
      "                *****\n",
      "                *\n",
      "                ***\n",
      "                *\n",
      "                *****\n",
      "                    \n"
     ]
    }
   ],
   "source": [
    "print_big('e')"
   ]
  },
  {
   "cell_type": "code",
   "execution_count": 121,
   "metadata": {},
   "outputs": [
    {
     "name": "stdout",
     "output_type": "stream",
     "text": [
      "\n",
      "                *****\n",
      "                *\n",
      "                ***\n",
      "                *\n",
      "                *\n",
      "                    \n"
     ]
    }
   ],
   "source": [
    "print_big('f')"
   ]
  },
  {
   "cell_type": "markdown",
   "metadata": {},
   "source": [
    "## Great Job!"
   ]
  }
 ],
 "metadata": {
  "kernelspec": {
   "display_name": "Python 3",
   "language": "python",
   "name": "python3"
  },
  "language_info": {
   "codemirror_mode": {
    "name": "ipython",
    "version": 3
   },
   "file_extension": ".py",
   "mimetype": "text/x-python",
   "name": "python",
   "nbconvert_exporter": "python",
   "pygments_lexer": "ipython3",
   "version": "3.7.6"
  }
 },
 "nbformat": 4,
 "nbformat_minor": 2
}
