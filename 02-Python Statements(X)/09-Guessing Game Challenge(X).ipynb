{
 "cells": [
  {
   "cell_type": "markdown",
   "metadata": {},
   "source": [
    "___\n",
    "\n",
    "<a href='https://www.udemy.com/user/joseportilla/'><img src='../Pierian_Data_Logo.png'/></a>\n",
    "___\n",
    "<center><em>Content Copyright by Pierian Data</em></center>"
   ]
  },
  {
   "cell_type": "markdown",
   "metadata": {},
   "source": [
    "# Guessing Game Challenge\n",
    "\n",
    "Let's use `while` loops to create a guessing game.\n",
    "\n",
    "The Challenge:\n",
    "\n",
    "Write a program that picks a random integer from 1 to 100, and has players guess the number. The rules are:\n",
    "\n",
    "1. If a player's guess is less than 1 or greater than 100, say \"OUT OF BOUNDS\"\n",
    "2. On a player's first turn, if their guess is\n",
    " * within 10 of the number, return \"WARM!\"\n",
    " * further than 10 away from the number, return \"COLD!\"\n",
    "3. On all subsequent turns, if a guess is \n",
    " * closer to the number than the previous guess return \"WARMER!\"\n",
    " * farther from the number than the previous guess, return \"COLDER!\"\n",
    "4. When the player's guess equals the number, tell them they've guessed correctly *and* how many guesses it took!\n",
    "\n",
    "You can try this from scratch, or follow the steps outlined below. A separate Solution notebook has been provided. Good luck!\n"
   ]
  },
  {
   "cell_type": "markdown",
   "metadata": {},
   "source": [
    "#### First, pick a random integer from 1 to 100 using the random module and assign it to a variable\n",
    "\n",
    "Note: `random.randint(a,b)` returns a random integer in range `[a, b]`, including both end points."
   ]
  },
  {
   "cell_type": "code",
   "execution_count": 1,
   "metadata": {},
   "outputs": [],
   "source": [
    "from random import randint"
   ]
  },
  {
   "cell_type": "code",
   "execution_count": 2,
   "metadata": {},
   "outputs": [],
   "source": [
    "random_num = randint(0,101)"
   ]
  },
  {
   "cell_type": "markdown",
   "metadata": {},
   "source": [
    "#### Next, print an introduction to the game and explain the rules"
   ]
  },
  {
   "cell_type": "code",
   "execution_count": 3,
   "metadata": {},
   "outputs": [
    {
     "name": "stdout",
     "output_type": "stream",
     "text": [
      "Welcome!!\n",
      "You are about to play \"The Guessing Game\"!!!\n",
      "Here are the rules:\n",
      "1. A random number between 1-100 will be chosen.\n",
      "2. Pick a random number\n",
      "3. If you are close to the number we will say warmer\n",
      "4. If you are further from the number we will say colder\n",
      "Pick the number and you win!!\n"
     ]
    }
   ],
   "source": [
    "print('Welcome!!')\n",
    "print('You are about to play \"The Guessing Game\"!!!')\n",
    "print('''Here are the rules:\n",
    "1. A random number between 1-100 will be chosen.\n",
    "2. Pick a random number\n",
    "3. If you are close to the number we will say warmer\n",
    "4. If you are further from the number we will say colder''')\n",
    "print('Pick the number and you win!!')"
   ]
  },
  {
   "cell_type": "markdown",
   "metadata": {},
   "source": [
    "#### Create a list to store guesses\n",
    "\n",
    "Hint: zero is a good placeholder value. It's useful because it evaluates to \"False\""
   ]
  },
  {
   "cell_type": "code",
   "execution_count": 4,
   "metadata": {},
   "outputs": [],
   "source": [
    "guesses = 0"
   ]
  },
  {
   "cell_type": "markdown",
   "metadata": {},
   "source": [
    "#### Write a `while` loop that asks for a valid guess. Test it a few times to make sure it works."
   ]
  },
  {
   "cell_type": "code",
   "execution_count": 11,
   "metadata": {},
   "outputs": [
    {
     "name": "stdout",
     "output_type": "stream",
     "text": [
      "Take a guess: 66\n"
     ]
    }
   ],
   "source": [
    "while True:\n",
    "    player_guess = int(input('Take a guess: '))\n",
    "    \n",
    "    if player_guess > 100 or player_guess < 1:\n",
    "        print('Please pick a number equal to or in between 1-100')\n",
    "        print('Try again')\n",
    "    else:\n",
    "        break\n",
    "        \n"
   ]
  },
  {
   "cell_type": "markdown",
   "metadata": {},
   "source": [
    "#### Write a `while` loop that compares the player's guess to our number. If the player guesses correctly, break from the loop. Otherwise, tell the player if they're warmer or colder, and continue asking for guesses.\n",
    "\n",
    "Some hints:\n",
    "* it may help to sketch out all possible combinations on paper first!\n",
    "* you can use the `abs()` function to find the positive difference between two numbers\n",
    "* if you append all new guesses to the list, then the previous guess is given as `guesses[-2]`"
   ]
  },
  {
   "cell_type": "code",
   "execution_count": 92,
   "metadata": {},
   "outputs": [],
   "source": [
    "guess = [0,2]"
   ]
  },
  {
   "cell_type": "code",
   "execution_count": 93,
   "metadata": {},
   "outputs": [
    {
     "name": "stdout",
     "output_type": "stream",
     "text": [
      "tomorrow\n"
     ]
    }
   ],
   "source": [
    "if guess[-2]:\n",
    "    print('test')\n",
    "else:\n",
    "    print('tomorrow')\n",
    "    "
   ]
  },
  {
   "cell_type": "code",
   "execution_count": null,
   "metadata": {},
   "outputs": [],
   "source": [
    "random_num = randint(0,100)\n",
    "attempts = 0\n",
    "guesses = [0]\n",
    "print('Welcome!!')\n",
    "print('You are about to play \"The Guessing Game\"!!!')\n",
    "print('''Here are the rules:\n",
    "1. A random number between 1-100 will be chosen.\n",
    "2. Pick a random number\n",
    "3. If you are close to the number we will say warmer\n",
    "4. If you are further from the number we will say colder''')\n",
    "print('Pick the number and you win!!')\n",
    "\n",
    "\n",
    "while True:\n",
    "\n",
    "    # we can copy the code from above to take an input\n",
    "\n",
    "#     print(f\">>>random_num:  {random_num}\")\n",
    "    \n",
    "    player_guess = int(input('Take a guess: '))\n",
    "    \n",
    "    # This is the first guess\n",
    "    guesses.append(player_guess)\n",
    "    \n",
    "    first_round = True\n",
    "    while first_round:\n",
    "        \n",
    "        # If they guess the first one right\n",
    "        if random_num == player_guess:\n",
    "            print('Holy Moley!! You guessed it on the first try!!!')\n",
    "            break\n",
    "            \n",
    "        # If they are within 10 \n",
    "        elif abs(random_num - player_guess) < 10:\n",
    "            print(\"YOU ARE SUPER WARM\")\n",
    "            \n",
    "            first_round = False\n",
    "            \n",
    "            # Adding a guess count\n",
    "            attempts += 1\n",
    "            \n",
    "            \n",
    "            \n",
    "            # All guesses after first one\n",
    "            while True:\n",
    "                more_guess = int(input('Take a guess: '))\n",
    "                \n",
    "                guesses.append(more_guess)\n",
    "                \n",
    "                if random_num == more_guess:\n",
    "                    print('You are correct!!')\n",
    "                    print(f'The correct number was {random_num}')\n",
    "                    print(f'It took you {attempts} guesses to get there!')\n",
    "                    break\n",
    "                    \n",
    "                elif abs(random_num - more_guess) < abs(random_num - guesses[-2]):\n",
    "                    print('WARMER!!!')\n",
    "                    attempts += 1\n",
    "                    \n",
    "                elif abs(random_num - more_guess) > abs(random_num - guesses[-2]):\n",
    "                    print('COLDER!!!')\n",
    "                    attempts += 1\n",
    "                    \n",
    "                \n",
    "        else:\n",
    "            print(\"you are very cold. hopefully you can find it\")\n",
    "            first_round = False\n",
    "            \n",
    "            attempts += 1\n",
    "            \n",
    "            while True:\n",
    "                \n",
    "                player_guess = int(input('Take a guess: '))\n",
    "                guesses.append(player_guess)\n",
    "                if random_num == player_guess:\n",
    "                    print('You are correct!!')\n",
    "                    print(f'The correct number was {random_num}')\n",
    "                    print(f'It took you {attempts} guesses to get there!')\n",
    "                    break\n",
    "                    \n",
    "                elif abs(random_num - player_guess) < abs(random_num - guesses[-2]):\n",
    "                    print('WARMER!!!')\n",
    "                    attempts += 1\n",
    "                elif abs(random_num - player_guess) > abs(random_num - guesses[-2]):\n",
    "                    print('COLDER!!!')\n",
    "                    attempts += 1\n",
    "    \n",
    "    break\n",
    "\n"
   ]
  },
  {
   "cell_type": "markdown",
   "metadata": {},
   "source": [
    "That's it! You've just programmed your first game!\n",
    "\n",
    "In the next section we'll learn how to turn some of these repetitive actions into *functions* that can be called whenever we need them."
   ]
  },
  {
   "cell_type": "code",
   "execution_count": null,
   "metadata": {},
   "outputs": [
    {
     "name": "stdout",
     "output_type": "stream",
     "text": [
      "43\n",
      "I'm thinking of a number between 1 and 100.\n",
      "  What is your guess? 40\n",
      "YOU ARE SUPER CLOSE!\n"
     ]
    }
   ],
   "source": [
    "num = randint(0,101)\n",
    "guesses = [0]\n",
    "print(num)\n",
    "while True:\n",
    "\n",
    "    # we can copy the code from above to take an input\n",
    "    guess = int(input(\"I'm thinking of a number between 1 and 100.\\n  What is your guess? \"))\n",
    "    \n",
    "    if guess < 1 or guess > 100:\n",
    "        print('OUT OF BOUNDS! Please try again: ')\n",
    "        continue\n",
    "    \n",
    "    # here we compare the player's guess to our number\n",
    "    \n",
    "    if guess == num:\n",
    "        print(f'CONGRATULATIONS, YOU GUESSED IT IN ONLY {len(guesses)} GUESSES!!')\n",
    "        break\n",
    "        \n",
    "    # if guess is incorrect, add guess to the list\n",
    "    # now the list has at least 2 items\n",
    "    guesses.append(guess)\n",
    "    \n",
    "    # when testing the first guess, guesses[-2]==0, which evaluates to False (True = 1, False = 0)\n",
    "    # and brings us down to the second section\n",
    "    \n",
    "    if guesses[-2]:  \n",
    "        if abs(num-guess) < abs(num-guesses[-2]):\n",
    "            print('WARMER!')\n",
    "        else:\n",
    "            print('COLDER!')\n",
    "   \n",
    "    else:\n",
    "        if abs(num-guess) <= 10:\n",
    "            print('YOU ARE SUPER CLOSE!')\n",
    "        else:\n",
    "            print('Really cold my friend!')"
   ]
  },
  {
   "cell_type": "markdown",
   "metadata": {},
   "source": [
    "### Good Job!"
   ]
  }
 ],
 "metadata": {
  "kernelspec": {
   "display_name": "Python 3",
   "language": "python",
   "name": "python3"
  },
  "language_info": {
   "codemirror_mode": {
    "name": "ipython",
    "version": 3
   },
   "file_extension": ".py",
   "mimetype": "text/x-python",
   "name": "python",
   "nbconvert_exporter": "python",
   "pygments_lexer": "ipython3",
   "version": "3.7.6"
  }
 },
 "nbformat": 4,
 "nbformat_minor": 2
}
