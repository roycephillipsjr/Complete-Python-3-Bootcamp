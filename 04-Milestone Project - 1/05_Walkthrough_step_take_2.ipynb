{
 "cells": [
  {
   "cell_type": "markdown",
   "metadata": {},
   "source": [
    "___\n",
    "\n",
    "<a href='https://www.udemy.com/user/joseportilla/'><img src='../Pierian_Data_Logo.png'/></a>\n",
    "___\n",
    "<center><em>Content Copyright by Pierian Data</em></center>"
   ]
  },
  {
   "cell_type": "markdown",
   "metadata": {},
   "source": [
    "# Milestone Project 1: Walkthrough Steps Workbook\n",
    "\n",
    "Below is a set of steps for you to follow to try to create the Tic Tac Toe Milestone Project game!"
   ]
  },
  {
   "cell_type": "markdown",
   "metadata": {},
   "source": [
    "#### Some suggested tools before you get started:\n",
    "To take input from a user:\n",
    "\n",
    "    player1 = input(\"Please pick a marker 'X' or 'O'\")\n",
    "    \n",
    "Note that input() takes in a string. If you need an integer value, use\n",
    "\n",
    "    position = int(input('Please enter a number'))\n",
    "    \n",
    "<br>To clear the screen between moves:\n",
    "\n",
    "    from IPython.display import clear_output\n",
    "    clear_output()\n",
    "    \n",
    "Note that clear_output() will only work in jupyter. To clear the screen in other IDEs, consider:\n",
    "\n",
    "    print('\\n'*100)\n",
    "    \n",
    "This scrolls the previous board up out of view. Now on to the program!"
   ]
  },
  {
   "cell_type": "markdown",
   "metadata": {},
   "source": [
    "**Step 1: Write a function that can print out a board. Set up your board as a list, where each index 1-9 corresponds with a number on a number pad, so you get a 3 by 3 board representation.**"
   ]
  },
  {
   "cell_type": "code",
   "execution_count": 266,
   "metadata": {},
   "outputs": [],
   "source": [
    "from IPython.display import clear_output\n",
    "\n",
    "def display_board(board):\n",
    "#     clear_output()\n",
    "    top_bottom_space = [' '*5, '|', ' '*5, '|']\n",
    "    lines = ['-'*6+'|'+'-'*7+'|'+'-'*6]\n",
    "    \n",
    "    print(' '.join(top_bottom_space))\n",
    "    print(' ', f'{board[1]}', ' ', '|', ' ', f'{board[2]}', ' ', '|', ' ' f'{board[3]}')\n",
    "    print(' '.join(top_bottom_space))\n",
    "    print(''.join(lines))\n",
    "    print(' '.join(top_bottom_space))\n",
    "    print(' ', f'{board[4]}', ' ', '|', ' ', f'{board[5]}', ' ', '|', ' ' f'{board[6]}')\n",
    "    print(' '.join(top_bottom_space))\n",
    "    print(''.join(lines))\n",
    "    print(' '.join(top_bottom_space))\n",
    "    print(' ', f'{board[7]}', ' ', '|', ' ', f'{board[8]}', ' ', '|', ' ' f'{board[9]}')\n",
    "    print(' '.join(top_bottom_space))"
   ]
  },
  {
   "cell_type": "markdown",
   "metadata": {},
   "source": [
    "**TEST Step 1:** run your function on a test version of the board list, and make adjustments as necessary"
   ]
  },
  {
   "cell_type": "code",
   "execution_count": 184,
   "metadata": {},
   "outputs": [],
   "source": [
    "empty_board = ['#', ' ', ' ', ' ', ' ', ' ', ' ', ' ', ' ', ' ']"
   ]
  },
  {
   "cell_type": "code",
   "execution_count": 185,
   "metadata": {},
   "outputs": [
    {
     "name": "stdout",
     "output_type": "stream",
     "text": [
      "      |       |\n",
      "  X   |   O   |  X\n",
      "      |       |\n",
      "------|-------|------\n",
      "      |       |\n",
      "  O   |   X   |  O\n",
      "      |       |\n",
      "------|-------|------\n",
      "      |       |\n",
      "  X   |   O   |  X\n",
      "      |       |\n"
     ]
    }
   ],
   "source": [
    "test_board = ['#','X','O','X','O','X','O','X','O','X']\n",
    "display_board(test_board)"
   ]
  },
  {
   "cell_type": "code",
   "execution_count": 186,
   "metadata": {},
   "outputs": [
    {
     "name": "stdout",
     "output_type": "stream",
     "text": [
      "      |       |\n",
      "      |       |   \n",
      "      |       |\n",
      "------|-------|------\n",
      "      |       |\n",
      "      |       |   \n",
      "      |       |\n",
      "------|-------|------\n",
      "      |       |\n",
      "      |       |   \n",
      "      |       |\n"
     ]
    }
   ],
   "source": [
    "display_board(empty_board)"
   ]
  },
  {
   "cell_type": "markdown",
   "metadata": {},
   "source": [
    "**Step 2: Write a function that can take in a player input and assign their marker as 'X' or 'O'. Think about using *while* loops to continually ask until you get a correct answer.**"
   ]
  },
  {
   "cell_type": "code",
   "execution_count": 190,
   "metadata": {},
   "outputs": [],
   "source": [
    "def player_input(player):\n",
    "    \n",
    "    choice = 'Wrong'\n",
    "    X_or_O = ['X', 'O']\n",
    "    \n",
    "    while choice not in X_or_O:\n",
    "        \n",
    "        choice = input(f'Player {player} \\nWhat would you like to be \"X\" or \"O\"?\\n')\n",
    "                       \n",
    "        if choice not in X_or_O:\n",
    "            choice = input('Nope! Please choose \"X\" or \"O\"\\n')\n",
    "        \n",
    "    player1 = choice\n",
    "    \n",
    "    if player1 == 'X':\n",
    "        player2 = 'O'\n",
    "    else:\n",
    "        player2 = 'X'\n",
    "    return (player1, player2)\n",
    "            \n",
    "        "
   ]
  },
  {
   "cell_type": "markdown",
   "metadata": {},
   "source": [
    "**TEST Step 2:** run the function to make sure it returns the desired output"
   ]
  },
  {
   "cell_type": "code",
   "execution_count": 193,
   "metadata": {
    "scrolled": true
   },
   "outputs": [
    {
     "name": "stdout",
     "output_type": "stream",
     "text": [
      "Player 1 \n",
      "What would you like to be \"X\" or \"O\"?\n",
      "X\n"
     ]
    }
   ],
   "source": [
    "player1_marker, player2_marker = player_input(1)"
   ]
  },
  {
   "cell_type": "code",
   "execution_count": 194,
   "metadata": {},
   "outputs": [
    {
     "data": {
      "text/plain": [
       "'X'"
      ]
     },
     "execution_count": 194,
     "metadata": {},
     "output_type": "execute_result"
    }
   ],
   "source": [
    "player1_marker"
   ]
  },
  {
   "cell_type": "code",
   "execution_count": 195,
   "metadata": {},
   "outputs": [
    {
     "data": {
      "text/plain": [
       "'O'"
      ]
     },
     "execution_count": 195,
     "metadata": {},
     "output_type": "execute_result"
    }
   ],
   "source": [
    "player2_marker"
   ]
  },
  {
   "cell_type": "markdown",
   "metadata": {},
   "source": [
    "**Step 3: Write a function that takes in the board list object, a marker ('X' or 'O'), and a desired position (number 1-9) and assigns it to the board.**"
   ]
  },
  {
   "cell_type": "code",
   "execution_count": 91,
   "metadata": {},
   "outputs": [
    {
     "name": "stdout",
     "output_type": "stream",
     "text": [
      "      |       |\n",
      "      |       |   \n",
      "      |       |\n",
      "--------------------\n",
      "      |       |\n",
      "      |       |   \n",
      "      |       |\n",
      "--------------------\n",
      "      |       |\n",
      "      |       |   \n",
      "      |       |\n"
     ]
    }
   ],
   "source": [
    "display_board(empty_board)"
   ]
  },
  {
   "cell_type": "code",
   "execution_count": 93,
   "metadata": {},
   "outputs": [],
   "source": [
    "def place_marker(board, marker, position):\n",
    "    \n",
    "    board[position] = marker\n",
    "    \n",
    "    return board"
   ]
  },
  {
   "cell_type": "markdown",
   "metadata": {},
   "source": [
    "**TEST Step 3:** run the place marker function using test parameters and display the modified board"
   ]
  },
  {
   "cell_type": "code",
   "execution_count": 94,
   "metadata": {},
   "outputs": [
    {
     "name": "stdout",
     "output_type": "stream",
     "text": [
      "      |       |\n",
      "  X   |   O   |  X\n",
      "      |       |\n",
      "--------------------\n",
      "      |       |\n",
      "  O   |   X   |  O\n",
      "      |       |\n",
      "--------------------\n",
      "      |       |\n",
      "  X   |   $   |  X\n",
      "      |       |\n"
     ]
    }
   ],
   "source": [
    "place_marker(test_board,'$',8)\n",
    "display_board(test_board)"
   ]
  },
  {
   "cell_type": "code",
   "execution_count": 95,
   "metadata": {
    "scrolled": true
   },
   "outputs": [
    {
     "name": "stdout",
     "output_type": "stream",
     "text": [
      "      |       |\n",
      "      |       |   \n",
      "      |       |\n",
      "--------------------\n",
      "      |       |\n",
      "      |       |   \n",
      "      |       |\n",
      "--------------------\n",
      "      |       |\n",
      "      |   $   |   \n",
      "      |       |\n"
     ]
    }
   ],
   "source": [
    "place_marker(empty_board,'$',8)\n",
    "display_board(empty_board)"
   ]
  },
  {
   "cell_type": "markdown",
   "metadata": {},
   "source": [
    "**Step 4: Write a function that takes in a board and a mark (X or O) and then checks to see if that mark has won.**"
   ]
  },
  {
   "cell_type": "code",
   "execution_count": 96,
   "metadata": {},
   "outputs": [
    {
     "data": {
      "text/plain": [
       "'$'"
      ]
     },
     "execution_count": 96,
     "metadata": {},
     "output_type": "execute_result"
    }
   ],
   "source": [
    "test_board[8]"
   ]
  },
  {
   "cell_type": "code",
   "execution_count": 238,
   "metadata": {},
   "outputs": [],
   "source": [
    "def win_check(board, mark):\n",
    "\n",
    "    \n",
    "    if board[1] == mark and board[2] == mark and board[3] == mark:\n",
    "        return True\n",
    "    elif board[4] == mark and board[5] == mark and board[6] == mark:\n",
    "        return True\n",
    "    elif board[7] == mark and board[8] == mark and board[9] == mark:\n",
    "        return True\n",
    "    elif board[1] == mark and board[4] == mark and board[7] == mark:\n",
    "        return True\n",
    "    elif board[2] == mark and board[5] == mark and board[8] == mark:\n",
    "        return True\n",
    "    elif board[3] == mark and board[6] == mark and board[9] == mark:\n",
    "        return True\n",
    "    elif board[1] == mark and board[5] == mark and board[9] == mark:\n",
    "        return True\n",
    "    elif board[3] == mark and board[5] == mark and board[7] == mark:\n",
    "        return True\n",
    "    else:\n",
    "        return False"
   ]
  },
  {
   "cell_type": "markdown",
   "metadata": {},
   "source": [
    "**TEST Step 4:** run the win_check function against our test_board - it should return True"
   ]
  },
  {
   "cell_type": "code",
   "execution_count": 99,
   "metadata": {},
   "outputs": [
    {
     "data": {
      "text/plain": [
       "False"
      ]
     },
     "execution_count": 99,
     "metadata": {},
     "output_type": "execute_result"
    }
   ],
   "source": [
    "win_check(test_board,'O')"
   ]
  },
  {
   "cell_type": "markdown",
   "metadata": {},
   "source": [
    "**Step 5: Write a function that uses the random module to randomly decide which player goes first. You may want to lookup random.randint() Return a string of which player went first.**"
   ]
  },
  {
   "cell_type": "code",
   "execution_count": 106,
   "metadata": {},
   "outputs": [],
   "source": [
    "import random\n",
    "\n",
    "def choose_first():\n",
    "    \n",
    "    player_chosen = random.randint(1,2)\n",
    "    \n",
    "    print(f\"Player {player_chosen} will go first\")\n",
    "    return player_chosen"
   ]
  },
  {
   "cell_type": "code",
   "execution_count": 116,
   "metadata": {},
   "outputs": [
    {
     "name": "stdout",
     "output_type": "stream",
     "text": [
      "Player 2 will go first\n"
     ]
    },
    {
     "data": {
      "text/plain": [
       "2"
      ]
     },
     "execution_count": 116,
     "metadata": {},
     "output_type": "execute_result"
    }
   ],
   "source": [
    "choose_first()"
   ]
  },
  {
   "cell_type": "markdown",
   "metadata": {},
   "source": [
    "**Step 6: Write a function that returns a boolean indicating whether a space on the board is freely available.**"
   ]
  },
  {
   "cell_type": "code",
   "execution_count": 125,
   "metadata": {},
   "outputs": [],
   "source": [
    "something = ['x',' ','x','x','o']"
   ]
  },
  {
   "cell_type": "code",
   "execution_count": 126,
   "metadata": {},
   "outputs": [
    {
     "name": "stdout",
     "output_type": "stream",
     "text": [
      "True\n"
     ]
    }
   ],
   "source": [
    "if ' ' in something[1]:\n",
    "    print(True)"
   ]
  },
  {
   "cell_type": "code",
   "execution_count": 151,
   "metadata": {},
   "outputs": [],
   "source": [
    "def space_check(board, position):\n",
    "    \n",
    "    if ' ' not in board[position]:\n",
    "        print('That spot if filled choose a different one')\n",
    "    return ' ' in board[position]"
   ]
  },
  {
   "cell_type": "code",
   "execution_count": 152,
   "metadata": {},
   "outputs": [
    {
     "name": "stdout",
     "output_type": "stream",
     "text": [
      "That spot if filled choose a different one\n"
     ]
    },
    {
     "data": {
      "text/plain": [
       "False"
      ]
     },
     "execution_count": 152,
     "metadata": {},
     "output_type": "execute_result"
    }
   ],
   "source": [
    "space_check(test_board,6)"
   ]
  },
  {
   "cell_type": "code",
   "execution_count": 153,
   "metadata": {},
   "outputs": [
    {
     "data": {
      "text/plain": [
       "True"
      ]
     },
     "execution_count": 153,
     "metadata": {},
     "output_type": "execute_result"
    }
   ],
   "source": [
    "space_check(empty_board,9)"
   ]
  },
  {
   "cell_type": "markdown",
   "metadata": {},
   "source": [
    "**Step 7: Write a function that checks if the board is full and returns a boolean value. True if full, False otherwise.**"
   ]
  },
  {
   "cell_type": "code",
   "execution_count": 154,
   "metadata": {},
   "outputs": [],
   "source": [
    "def full_board_check(board):\n",
    "    \n",
    "    return ' ' in board"
   ]
  },
  {
   "cell_type": "code",
   "execution_count": 155,
   "metadata": {},
   "outputs": [
    {
     "data": {
      "text/plain": [
       "False"
      ]
     },
     "execution_count": 155,
     "metadata": {},
     "output_type": "execute_result"
    }
   ],
   "source": [
    "full_board_check(test_board)"
   ]
  },
  {
   "cell_type": "code",
   "execution_count": 156,
   "metadata": {},
   "outputs": [
    {
     "data": {
      "text/plain": [
       "True"
      ]
     },
     "execution_count": 156,
     "metadata": {},
     "output_type": "execute_result"
    }
   ],
   "source": [
    "full_board_check(empty_board)"
   ]
  },
  {
   "cell_type": "markdown",
   "metadata": {},
   "source": [
    "**Step 8: Write a function that asks for a player's next position (as a number 1-9) and then uses the function from step 6 to check if it's a free position. If it is, then return the position for later use.**"
   ]
  },
  {
   "cell_type": "code",
   "execution_count": 202,
   "metadata": {},
   "outputs": [],
   "source": [
    "def player_choice(board):\n",
    "    \n",
    "    choice = 'WRONG'\n",
    "    acceptable_range = list(range(1,10))\n",
    "    in_range = False\n",
    "    \n",
    "    while choice.isdigit() == False or in_range == False:\n",
    "        \n",
    "        choice = input('Choose a spot (1-9)\\n')\n",
    "        \n",
    "        if choice.isdigit() == False:\n",
    "            print(\"Sorry that is not a digit\")\n",
    "        \n",
    "        if choice.isdigit():\n",
    "            \n",
    "            if int(choice) in acceptable_range:\n",
    "                \n",
    "                if space_check(board, int(choice)):\n",
    "                    in_range = True         \n",
    "            else:\n",
    "                print('Sorry, that is not in the acceptable range (1-9)')\n",
    "                    \n",
    "    return int(choice)"
   ]
  },
  {
   "cell_type": "code",
   "execution_count": 164,
   "metadata": {
    "scrolled": false
   },
   "outputs": [
    {
     "name": "stdout",
     "output_type": "stream",
     "text": [
      "Choose a spot (1-9)\n",
      "8\n",
      "That spot if filled choose a different one\n",
      "Choose a spot (1-9)\n",
      "9\n"
     ]
    },
    {
     "data": {
      "text/plain": [
       "'9'"
      ]
     },
     "execution_count": 164,
     "metadata": {},
     "output_type": "execute_result"
    }
   ],
   "source": [
    "player_choice(empty_board)"
   ]
  },
  {
   "cell_type": "code",
   "execution_count": 143,
   "metadata": {},
   "outputs": [
    {
     "data": {
      "text/plain": [
       "['#', ' ', ' ', ' ', ' ', ' ', ' ', ' ', '$', ' ']"
      ]
     },
     "execution_count": 143,
     "metadata": {},
     "output_type": "execute_result"
    }
   ],
   "source": [
    "empty_board"
   ]
  },
  {
   "cell_type": "markdown",
   "metadata": {},
   "source": [
    "**Step 9: Write a function that asks the player if they want to play again and returns a boolean True if they do want to play again.**"
   ]
  },
  {
   "cell_type": "code",
   "execution_count": 166,
   "metadata": {},
   "outputs": [],
   "source": [
    "def replay():\n",
    "    \n",
    "    choice = input(\"Do you want to play again? (Y/N)\")\n",
    "    \n",
    "    return choice == 'Y'"
   ]
  },
  {
   "cell_type": "code",
   "execution_count": 168,
   "metadata": {},
   "outputs": [
    {
     "name": "stdout",
     "output_type": "stream",
     "text": [
      "Do you want to play again? (Y/N)Y\n"
     ]
    },
    {
     "data": {
      "text/plain": [
       "True"
      ]
     },
     "execution_count": 168,
     "metadata": {},
     "output_type": "execute_result"
    }
   ],
   "source": [
    "replay()"
   ]
  },
  {
   "cell_type": "markdown",
   "metadata": {
    "collapsed": true
   },
   "source": [
    "**Step 10: Here comes the hard part! Use while loops and the functions you've made to run the game!**"
   ]
  },
  {
   "cell_type": "code",
   "execution_count": 273,
   "metadata": {
    "scrolled": false
   },
   "outputs": [
    {
     "name": "stdout",
     "output_type": "stream",
     "text": [
      "GAME ON!!!\n",
      "First let's pick a player\n",
      "Player 1 will go first\n",
      "PLAYER CHOICE==== 1\n",
      "Alright Player 1 gets to go first!\n",
      "PLAYER MARKERS!!! Play1==X | Play2==O\n",
      "Player 1 \n",
      "What would you like to be \"X\" or \"O\"?\n",
      "O\n",
      " AFTERPLAYER MARKERS!!! Play1==O | Play2==X\n",
      "PLAYER MARKERS!!! Play1==O | Play2==X\n",
      "      |       |\n",
      "      |       |   \n",
      "      |       |\n",
      "------|-------|------\n",
      "      |       |\n",
      "      |       |   \n",
      "      |       |\n",
      "------|-------|------\n",
      "      |       |\n",
      "      |       |   \n",
      "      |       |\n",
      "Choose a spot (1-9)\n",
      "1\n",
      "<<<<<<< PLAYER 1!!\n",
      "      |       |\n",
      "  O   |       |   \n",
      "      |       |\n",
      "------|-------|------\n",
      "      |       |\n",
      "      |       |   \n",
      "      |       |\n",
      "------|-------|------\n",
      "      |       |\n",
      "      |       |   \n",
      "      |       |\n",
      "Choose a spot (1-9)\n",
      "2\n",
      ">>>>>>>player 2\n",
      "PLAYER MARKERS!!! Play1==O | Play2==X\n",
      "      |       |\n",
      "  O   |   X   |   \n",
      "      |       |\n",
      "------|-------|------\n",
      "      |       |\n",
      "      |       |   \n",
      "      |       |\n",
      "------|-------|------\n",
      "      |       |\n",
      "      |       |   \n",
      "      |       |\n",
      "Choose a spot (1-9)\n",
      "5\n",
      "<<<<<<< PLAYER 1!!\n",
      "      |       |\n",
      "  O   |   X   |   \n",
      "      |       |\n",
      "------|-------|------\n",
      "      |       |\n",
      "      |   O   |   \n",
      "      |       |\n",
      "------|-------|------\n",
      "      |       |\n",
      "      |       |   \n",
      "      |       |\n",
      "Choose a spot (1-9)\n",
      "3\n",
      ">>>>>>>player 2\n",
      "PLAYER MARKERS!!! Play1==O | Play2==X\n",
      "      |       |\n",
      "  O   |   X   |  X\n",
      "      |       |\n",
      "------|-------|------\n",
      "      |       |\n",
      "      |   O   |   \n",
      "      |       |\n",
      "------|-------|------\n",
      "      |       |\n",
      "      |       |   \n",
      "      |       |\n",
      "Choose a spot (1-9)\n",
      "9\n",
      "<<<<<<< PLAYER 1!!\n",
      "      |       |\n",
      "  O   |   X   |  X\n",
      "      |       |\n",
      "------|-------|------\n",
      "      |       |\n",
      "      |   O   |   \n",
      "      |       |\n",
      "------|-------|------\n",
      "      |       |\n",
      "      |       |  O\n",
      "      |       |\n",
      "Choose a spot (1-9)\n",
      "4\n",
      ">>>>>>>player 2\n",
      "PLAYER MARKERS!!! Play1==O | Play2==X\n",
      "      |       |\n",
      "  O   |   X   |  X\n",
      "      |       |\n",
      "------|-------|------\n",
      "      |       |\n",
      "  X   |   O   |   \n",
      "      |       |\n",
      "------|-------|------\n",
      "      |       |\n",
      "      |       |  O\n",
      "      |       |\n",
      "You won Player 1!\n",
      "      |       |\n",
      "  O   |   X   |  X\n",
      "      |       |\n",
      "------|-------|------\n",
      "      |       |\n",
      "  X   |   O   |   \n",
      "      |       |\n",
      "------|-------|------\n",
      "      |       |\n",
      "      |       |  O\n",
      "      |       |\n",
      "Choose a spot (1-9)\n",
      "6\n",
      "<<<<<<< PLAYER 1!!\n",
      "      |       |\n",
      "  O   |   X   |  X\n",
      "      |       |\n",
      "------|-------|------\n",
      "      |       |\n",
      "  X   |   O   |  O\n",
      "      |       |\n",
      "------|-------|------\n",
      "      |       |\n",
      "      |       |  O\n",
      "      |       |\n",
      "Choose a spot (1-9)\n",
      "7\n",
      ">>>>>>>player 2\n",
      "GAME ON!!!\n",
      "First let's pick a player\n",
      "Player 1 will go first\n",
      "PLAYER CHOICE==== 1\n",
      "Alright Player 1 gets to go first!\n",
      "PLAYER MARKERS!!! Play1==O | Play2==X\n"
     ]
    },
    {
     "ename": "KeyboardInterrupt",
     "evalue": "",
     "output_type": "error",
     "traceback": [
      "\u001b[0;31m---------------------------------------------------------------------------\u001b[0m",
      "\u001b[0;31mKeyboardInterrupt\u001b[0m                         Traceback (most recent call last)",
      "\u001b[0;32m/opt/anaconda3/lib/python3.7/site-packages/ipykernel/kernelbase.py\u001b[0m in \u001b[0;36m_input_request\u001b[0;34m(self, prompt, ident, parent, password)\u001b[0m\n\u001b[1;32m    883\u001b[0m             \u001b[0;32mtry\u001b[0m\u001b[0;34m:\u001b[0m\u001b[0;34m\u001b[0m\u001b[0;34m\u001b[0m\u001b[0m\n\u001b[0;32m--> 884\u001b[0;31m                 \u001b[0mident\u001b[0m\u001b[0;34m,\u001b[0m \u001b[0mreply\u001b[0m \u001b[0;34m=\u001b[0m \u001b[0mself\u001b[0m\u001b[0;34m.\u001b[0m\u001b[0msession\u001b[0m\u001b[0;34m.\u001b[0m\u001b[0mrecv\u001b[0m\u001b[0;34m(\u001b[0m\u001b[0mself\u001b[0m\u001b[0;34m.\u001b[0m\u001b[0mstdin_socket\u001b[0m\u001b[0;34m,\u001b[0m \u001b[0;36m0\u001b[0m\u001b[0;34m)\u001b[0m\u001b[0;34m\u001b[0m\u001b[0;34m\u001b[0m\u001b[0m\n\u001b[0m\u001b[1;32m    885\u001b[0m             \u001b[0;32mexcept\u001b[0m \u001b[0mException\u001b[0m\u001b[0;34m:\u001b[0m\u001b[0;34m\u001b[0m\u001b[0;34m\u001b[0m\u001b[0m\n",
      "\u001b[0;32m/opt/anaconda3/lib/python3.7/site-packages/jupyter_client/session.py\u001b[0m in \u001b[0;36mrecv\u001b[0;34m(self, socket, mode, content, copy)\u001b[0m\n\u001b[1;32m    802\u001b[0m         \u001b[0;32mtry\u001b[0m\u001b[0;34m:\u001b[0m\u001b[0;34m\u001b[0m\u001b[0;34m\u001b[0m\u001b[0m\n\u001b[0;32m--> 803\u001b[0;31m             \u001b[0mmsg_list\u001b[0m \u001b[0;34m=\u001b[0m \u001b[0msocket\u001b[0m\u001b[0;34m.\u001b[0m\u001b[0mrecv_multipart\u001b[0m\u001b[0;34m(\u001b[0m\u001b[0mmode\u001b[0m\u001b[0;34m,\u001b[0m \u001b[0mcopy\u001b[0m\u001b[0;34m=\u001b[0m\u001b[0mcopy\u001b[0m\u001b[0;34m)\u001b[0m\u001b[0;34m\u001b[0m\u001b[0;34m\u001b[0m\u001b[0m\n\u001b[0m\u001b[1;32m    804\u001b[0m         \u001b[0;32mexcept\u001b[0m \u001b[0mzmq\u001b[0m\u001b[0;34m.\u001b[0m\u001b[0mZMQError\u001b[0m \u001b[0;32mas\u001b[0m \u001b[0me\u001b[0m\u001b[0;34m:\u001b[0m\u001b[0;34m\u001b[0m\u001b[0;34m\u001b[0m\u001b[0m\n",
      "\u001b[0;32m/opt/anaconda3/lib/python3.7/site-packages/zmq/sugar/socket.py\u001b[0m in \u001b[0;36mrecv_multipart\u001b[0;34m(self, flags, copy, track)\u001b[0m\n\u001b[1;32m    474\u001b[0m         \"\"\"\n\u001b[0;32m--> 475\u001b[0;31m         \u001b[0mparts\u001b[0m \u001b[0;34m=\u001b[0m \u001b[0;34m[\u001b[0m\u001b[0mself\u001b[0m\u001b[0;34m.\u001b[0m\u001b[0mrecv\u001b[0m\u001b[0;34m(\u001b[0m\u001b[0mflags\u001b[0m\u001b[0;34m,\u001b[0m \u001b[0mcopy\u001b[0m\u001b[0;34m=\u001b[0m\u001b[0mcopy\u001b[0m\u001b[0;34m,\u001b[0m \u001b[0mtrack\u001b[0m\u001b[0;34m=\u001b[0m\u001b[0mtrack\u001b[0m\u001b[0;34m)\u001b[0m\u001b[0;34m]\u001b[0m\u001b[0;34m\u001b[0m\u001b[0;34m\u001b[0m\u001b[0m\n\u001b[0m\u001b[1;32m    476\u001b[0m         \u001b[0;31m# have first part already, only loop while more to receive\u001b[0m\u001b[0;34m\u001b[0m\u001b[0;34m\u001b[0m\u001b[0;34m\u001b[0m\u001b[0m\n",
      "\u001b[0;32mzmq/backend/cython/socket.pyx\u001b[0m in \u001b[0;36mzmq.backend.cython.socket.Socket.recv\u001b[0;34m()\u001b[0m\n",
      "\u001b[0;32mzmq/backend/cython/socket.pyx\u001b[0m in \u001b[0;36mzmq.backend.cython.socket.Socket.recv\u001b[0;34m()\u001b[0m\n",
      "\u001b[0;32mzmq/backend/cython/socket.pyx\u001b[0m in \u001b[0;36mzmq.backend.cython.socket._recv_copy\u001b[0;34m()\u001b[0m\n",
      "\u001b[0;32m/opt/anaconda3/lib/python3.7/site-packages/zmq/backend/cython/checkrc.pxd\u001b[0m in \u001b[0;36mzmq.backend.cython.checkrc._check_rc\u001b[0;34m()\u001b[0m\n",
      "\u001b[0;31mKeyboardInterrupt\u001b[0m: ",
      "\nDuring handling of the above exception, another exception occurred:\n",
      "\u001b[0;31mKeyboardInterrupt\u001b[0m                         Traceback (most recent call last)",
      "\u001b[0;32m<ipython-input-273-c3a4ba0c08b1>\u001b[0m in \u001b[0;36m<module>\u001b[0;34m\u001b[0m\n\u001b[1;32m     18\u001b[0m         \u001b[0mprint\u001b[0m\u001b[0;34m(\u001b[0m\u001b[0;34m'Alright Player 1 gets to go first!'\u001b[0m\u001b[0;34m)\u001b[0m\u001b[0;34m\u001b[0m\u001b[0;34m\u001b[0m\u001b[0m\n\u001b[1;32m     19\u001b[0m         \u001b[0mprint\u001b[0m\u001b[0;34m(\u001b[0m\u001b[0;34mf\"PLAYER MARKERS!!! Play1=={player1_marker} | Play2=={player2_marker}\"\u001b[0m\u001b[0;34m)\u001b[0m\u001b[0;34m\u001b[0m\u001b[0;34m\u001b[0m\u001b[0m\n\u001b[0;32m---> 20\u001b[0;31m         \u001b[0mplayer1_marker\u001b[0m\u001b[0;34m,\u001b[0m \u001b[0mplayer2_marker\u001b[0m \u001b[0;34m=\u001b[0m \u001b[0mplayer_input\u001b[0m\u001b[0;34m(\u001b[0m\u001b[0mplayer\u001b[0m\u001b[0;34m)\u001b[0m\u001b[0;34m\u001b[0m\u001b[0;34m\u001b[0m\u001b[0m\n\u001b[0m\u001b[1;32m     21\u001b[0m         \u001b[0mprint\u001b[0m\u001b[0;34m(\u001b[0m\u001b[0;34mf\" AFTERPLAYER MARKERS!!! Play1=={player1_marker} | Play2=={player2_marker}\"\u001b[0m\u001b[0;34m)\u001b[0m\u001b[0;34m\u001b[0m\u001b[0;34m\u001b[0m\u001b[0m\n\u001b[1;32m     22\u001b[0m \u001b[0;34m\u001b[0m\u001b[0m\n",
      "\u001b[0;32m<ipython-input-190-c0069c999a27>\u001b[0m in \u001b[0;36mplayer_input\u001b[0;34m(player)\u001b[0m\n\u001b[1;32m      6\u001b[0m     \u001b[0;32mwhile\u001b[0m \u001b[0mchoice\u001b[0m \u001b[0;32mnot\u001b[0m \u001b[0;32min\u001b[0m \u001b[0mX_or_O\u001b[0m\u001b[0;34m:\u001b[0m\u001b[0;34m\u001b[0m\u001b[0;34m\u001b[0m\u001b[0m\n\u001b[1;32m      7\u001b[0m \u001b[0;34m\u001b[0m\u001b[0m\n\u001b[0;32m----> 8\u001b[0;31m         \u001b[0mchoice\u001b[0m \u001b[0;34m=\u001b[0m \u001b[0minput\u001b[0m\u001b[0;34m(\u001b[0m\u001b[0;34mf'Player {player} \\nWhat would you like to be \"X\" or \"O\"?\\n'\u001b[0m\u001b[0;34m)\u001b[0m\u001b[0;34m\u001b[0m\u001b[0;34m\u001b[0m\u001b[0m\n\u001b[0m\u001b[1;32m      9\u001b[0m \u001b[0;34m\u001b[0m\u001b[0m\n\u001b[1;32m     10\u001b[0m         \u001b[0;32mif\u001b[0m \u001b[0mchoice\u001b[0m \u001b[0;32mnot\u001b[0m \u001b[0;32min\u001b[0m \u001b[0mX_or_O\u001b[0m\u001b[0;34m:\u001b[0m\u001b[0;34m\u001b[0m\u001b[0;34m\u001b[0m\u001b[0m\n",
      "\u001b[0;32m/opt/anaconda3/lib/python3.7/site-packages/ipykernel/kernelbase.py\u001b[0m in \u001b[0;36mraw_input\u001b[0;34m(self, prompt)\u001b[0m\n\u001b[1;32m    857\u001b[0m             \u001b[0mself\u001b[0m\u001b[0;34m.\u001b[0m\u001b[0m_parent_ident\u001b[0m\u001b[0;34m,\u001b[0m\u001b[0;34m\u001b[0m\u001b[0;34m\u001b[0m\u001b[0m\n\u001b[1;32m    858\u001b[0m             \u001b[0mself\u001b[0m\u001b[0;34m.\u001b[0m\u001b[0m_parent_header\u001b[0m\u001b[0;34m,\u001b[0m\u001b[0;34m\u001b[0m\u001b[0;34m\u001b[0m\u001b[0m\n\u001b[0;32m--> 859\u001b[0;31m             \u001b[0mpassword\u001b[0m\u001b[0;34m=\u001b[0m\u001b[0;32mFalse\u001b[0m\u001b[0;34m,\u001b[0m\u001b[0;34m\u001b[0m\u001b[0;34m\u001b[0m\u001b[0m\n\u001b[0m\u001b[1;32m    860\u001b[0m         )\n\u001b[1;32m    861\u001b[0m \u001b[0;34m\u001b[0m\u001b[0m\n",
      "\u001b[0;32m/opt/anaconda3/lib/python3.7/site-packages/ipykernel/kernelbase.py\u001b[0m in \u001b[0;36m_input_request\u001b[0;34m(self, prompt, ident, parent, password)\u001b[0m\n\u001b[1;32m    887\u001b[0m             \u001b[0;32mexcept\u001b[0m \u001b[0mKeyboardInterrupt\u001b[0m\u001b[0;34m:\u001b[0m\u001b[0;34m\u001b[0m\u001b[0;34m\u001b[0m\u001b[0m\n\u001b[1;32m    888\u001b[0m                 \u001b[0;31m# re-raise KeyboardInterrupt, to truncate traceback\u001b[0m\u001b[0;34m\u001b[0m\u001b[0;34m\u001b[0m\u001b[0;34m\u001b[0m\u001b[0m\n\u001b[0;32m--> 889\u001b[0;31m                 \u001b[0;32mraise\u001b[0m \u001b[0mKeyboardInterrupt\u001b[0m\u001b[0;34m\u001b[0m\u001b[0;34m\u001b[0m\u001b[0m\n\u001b[0m\u001b[1;32m    890\u001b[0m             \u001b[0;32melse\u001b[0m\u001b[0;34m:\u001b[0m\u001b[0;34m\u001b[0m\u001b[0;34m\u001b[0m\u001b[0m\n\u001b[1;32m    891\u001b[0m                 \u001b[0;32mbreak\u001b[0m\u001b[0;34m\u001b[0m\u001b[0;34m\u001b[0m\u001b[0m\n",
      "\u001b[0;31mKeyboardInterrupt\u001b[0m: "
     ]
    }
   ],
   "source": [
    "# print('Welcome to Tic Tac Toe!')\n",
    "empty_board = ['#', ' ', ' ', ' ', ' ', ' ', ' ', ' ', ' ', ' ']\n",
    "game_on = True\n",
    "\n",
    "# Starting the game\n",
    "while game_on:\n",
    "    print(\"GAME ON!!!\")\n",
    "    #Randomly choosing the player\n",
    "    print('First let\\'s pick a player')\n",
    "    player = choose_first()\n",
    "    \n",
    "    print(\"PLAYER CHOICE====\",player)\n",
    "    \n",
    "    # Starting with the player that wins the draw\n",
    "    if player == 1:\n",
    "        \n",
    "        # Choosing marker\n",
    "        print('Alright Player 1 gets to go first!')\n",
    "        print(f\"PLAYER MARKERS!!! Play1=={player1_marker} | Play2=={player2_marker}\")\n",
    "        player1_marker, player2_marker = player_input(player)\n",
    "        print(f\" AFTERPLAYER MARKERS!!! Play1=={player1_marker} | Play2=={player2_marker}\")        \n",
    "\n",
    "        \n",
    "        # Starting with the empty board and will fill up to max or whoever wins first\n",
    "\n",
    "        full_board = False\n",
    "        \n",
    "        # Starting the tic-tac-toe game\n",
    "        while full_board == False:\n",
    "            # Player 1 goes first (flip between two until win or full board)\n",
    "            print(f\"PLAYER MARKERS!!! Play1=={player1_marker} | Play2=={player2_marker}\")\n",
    "            if win_check(empty_board, player1_marker):\n",
    "                display_board(empty_board)\n",
    "                full_board = True\n",
    "                print(\"You won Player 1!\")\n",
    "            display_board(empty_board)\n",
    "            spot = player_choice(empty_board)\n",
    "            place_marker(empty_board, player1_marker, spot)\n",
    "\n",
    "            print(\"<<<<<<< PLAYER 1!!\")\n",
    "            # Player 2 goes second (flip between two until win or full board)\n",
    "            if win_check(empty_board, player2_marker):\n",
    "                display_board(empty_board)\n",
    "                print(\"You won Player 2!\")\n",
    "                full_board = True\n",
    "            display_board(empty_board)\n",
    "            spot = player_choice(empty_board)\n",
    "            place_marker(empty_board, player2_marker, spot)\n",
    "            if full_board_check(empty_board) == False:\n",
    "                display_board(empty_board)\n",
    "                print(\"Cat's Game! No one wins!!\")\n",
    "                full_board = True\n",
    "                \n",
    "            print(\">>>>>>>player 2\")\n",
    "    elif player == 2:\n",
    "        print('Testing the game flow right now')\n",
    "        break\n",
    "    else:\n",
    "        break\n",
    "#     if not replay():\n",
    "#         break"
   ]
  },
  {
   "cell_type": "markdown",
   "metadata": {
    "collapsed": true
   },
   "source": [
    "###### Good Job!"
   ]
  },
  {
   "cell_type": "code",
   "execution_count": null,
   "metadata": {},
   "outputs": [],
   "source": []
  }
 ],
 "metadata": {
  "kernelspec": {
   "display_name": "Python 3",
   "language": "python",
   "name": "python3"
  },
  "language_info": {
   "codemirror_mode": {
    "name": "ipython",
    "version": 3
   },
   "file_extension": ".py",
   "mimetype": "text/x-python",
   "name": "python",
   "nbconvert_exporter": "python",
   "pygments_lexer": "ipython3",
   "version": "3.7.6"
  }
 },
 "nbformat": 4,
 "nbformat_minor": 1
}
