{
 "cells": [
  {
   "cell_type": "markdown",
   "metadata": {},
   "source": [
    "___\n",
    "\n",
    "<a href='https://www.udemy.com/user/joseportilla/'><img src='../Pierian_Data_Logo.png'/></a>\n",
    "___\n",
    "<center><em>Content Copyright by Pierian Data</em></center>"
   ]
  },
  {
   "cell_type": "markdown",
   "metadata": {},
   "source": [
    "# Milestone Project 1: Walkthrough Steps Workbook\n",
    "\n",
    "Below is a set of steps for you to follow to try to create the Tic Tac Toe Milestone Project game!"
   ]
  },
  {
   "cell_type": "markdown",
   "metadata": {},
   "source": [
    "#### Some suggested tools before you get started:\n",
    "To take input from a user:\n",
    "\n",
    "    player1 = input(\"Please pick a marker 'X' or 'O'\")\n",
    "    \n",
    "Note that input() takes in a string. If you need an integer value, use\n",
    "\n",
    "    position = int(input('Please enter a number'))\n",
    "    \n",
    "<br>To clear the screen between moves:\n",
    "\n",
    "    from IPython.display import clear_output\n",
    "    clear_output()\n",
    "    \n",
    "Note that clear_output() will only work in jupyter. To clear the screen in other IDEs, consider:\n",
    "\n",
    "    print('\\n'*100)\n",
    "    \n",
    "This scrolls the previous board up out of view. Now on to the program!"
   ]
  },
  {
   "cell_type": "markdown",
   "metadata": {},
   "source": [
    "**Step 1: Write a function that can print out a board. Set up your board as a list, where each index 1-9 corresponds with a number on a number pad, so you get a 3 by 3 board representation.**"
   ]
  },
  {
   "cell_type": "code",
   "execution_count": 56,
   "metadata": {},
   "outputs": [],
   "source": [
    "from IPython.display import clear_output\n",
    "\n",
    "def display_board(board):\n",
    "    my_board = ['#', board[1], board[2], board[3],\n",
    "                     board[4], board[5], board[6],\n",
    "                     board[7], board[8], board[9]]\n",
    "    row1 = [' '*3, '|', ' '*3, '|', ' ']\n",
    "    row2 = [' ', my_board[1], ' ', '|', ' ', my_board[2], ' ', '|', ' ', my_board[3]]\n",
    "    row3 = ['-'*11]\n",
    "    row4 = [' ', my_board[4], ' ', '|', ' ', my_board[5], ' ', '|', ' ', my_board[6]]\n",
    "    row5 = [' ', my_board[7], ' ', '|', ' ', my_board[8], ' ', '|', ' ', my_board[9]]\n",
    "    clear_output()\n",
    "    print(''.join(row1))\n",
    "    print(''.join(row2))\n",
    "    print(''.join(row1))\n",
    "    print(''.join(row3))\n",
    "    print(''.join(row1))\n",
    "    print(''.join(row4))\n",
    "    print(''.join(row1))\n",
    "    print(''.join(row3))\n",
    "    print(''.join(row1))\n",
    "    print(''.join(row5))\n",
    "    print(''.join(row1))"
   ]
  },
  {
   "cell_type": "markdown",
   "metadata": {},
   "source": [
    "**TEST Step 1:** run your function on a test version of the board list, and make adjustments as necessary"
   ]
  },
  {
   "cell_type": "code",
   "execution_count": 3,
   "metadata": {},
   "outputs": [],
   "source": [
    "empty_board = ['#', ' ', ' ', ' ', ' ', ' ', ' ', ' ', ' ', ' ']"
   ]
  },
  {
   "cell_type": "code",
   "execution_count": 4,
   "metadata": {},
   "outputs": [
    {
     "name": "stdout",
     "output_type": "stream",
     "text": [
      "   |   | \n",
      " X | O | X\n",
      "   |   | \n",
      "-----------\n",
      "   |   | \n",
      " O | X | O\n",
      "   |   | \n",
      "-----------\n",
      "   |   | \n",
      " X | O | X\n",
      "   |   | \n"
     ]
    }
   ],
   "source": [
    "test_board = ['#','X','O','X','O','X','O','X','O','X']\n",
    "display_board(test_board)"
   ]
  },
  {
   "cell_type": "markdown",
   "metadata": {},
   "source": [
    "**Step 2: Write a function that can take in a player input and assign their marker as 'X' or 'O'. Think about using *while* loops to continually ask until you get a correct answer.**"
   ]
  },
  {
   "cell_type": "code",
   "execution_count": 42,
   "metadata": {},
   "outputs": [],
   "source": [
    "def player_input():\n",
    "    \n",
    "    choice = 'wrong'\n",
    "    \n",
    "    while choice not in ['X', 'O']:\n",
    "        \n",
    "        choice = input(f\"Player 1: Do you want to be X or O?\").upper()\n",
    "        clear_output()\n",
    "        if choice not in ['X', 'O']:\n",
    "            print(\"Sorry, but you need to pick X or O\")\n",
    "          \n",
    "    print(f\"Player 1 will be {choice}.\")\n",
    "    if choice == \"X\":\n",
    "        return ('X', 'O')\n",
    "    else:\n",
    "        return ('O', 'X')\n",
    "                "
   ]
  },
  {
   "cell_type": "markdown",
   "metadata": {},
   "source": [
    "**TEST Step 2:** run the function to make sure it returns the desired output"
   ]
  },
  {
   "cell_type": "code",
   "execution_count": 44,
   "metadata": {},
   "outputs": [
    {
     "name": "stdout",
     "output_type": "stream",
     "text": [
      "Player 1 will be O.\n"
     ]
    },
    {
     "data": {
      "text/plain": [
       "('O', 'X')"
      ]
     },
     "execution_count": 44,
     "metadata": {},
     "output_type": "execute_result"
    }
   ],
   "source": [
    "player_input()"
   ]
  },
  {
   "cell_type": "markdown",
   "metadata": {},
   "source": [
    "**Step 3: Write a function that takes in the board list object, a marker ('X' or 'O'), and a desired position (number 1-9) and assigns it to the board.**"
   ]
  },
  {
   "cell_type": "code",
   "execution_count": 8,
   "metadata": {},
   "outputs": [],
   "source": [
    "def place_marker(board, marker, position):\n",
    "    \n",
    "    board[position] = marker\n",
    "    "
   ]
  },
  {
   "cell_type": "markdown",
   "metadata": {},
   "source": [
    "**TEST Step 3:** run the place marker function using test parameters and display the modified board"
   ]
  },
  {
   "cell_type": "code",
   "execution_count": 9,
   "metadata": {},
   "outputs": [
    {
     "name": "stdout",
     "output_type": "stream",
     "text": [
      "   |   | \n",
      " X | O | X\n",
      "   |   | \n",
      "-----------\n",
      "   |   | \n",
      " O | X | O\n",
      "   |   | \n",
      "-----------\n",
      "   |   | \n",
      " X | $ | X\n",
      "   |   | \n"
     ]
    }
   ],
   "source": [
    "place_marker(test_board,'$',8)\n",
    "display_board(test_board)"
   ]
  },
  {
   "cell_type": "code",
   "execution_count": 10,
   "metadata": {
    "scrolled": true
   },
   "outputs": [
    {
     "name": "stdout",
     "output_type": "stream",
     "text": [
      "   |   | \n",
      "   |   |  \n",
      "   |   | \n",
      "-----------\n",
      "   |   | \n",
      "   |   |  \n",
      "   |   | \n",
      "-----------\n",
      "   |   | \n",
      "   | $ |  \n",
      "   |   | \n"
     ]
    }
   ],
   "source": [
    "place_marker(empty_board,'$',8)\n",
    "display_board(empty_board)"
   ]
  },
  {
   "cell_type": "markdown",
   "metadata": {},
   "source": [
    "**Step 4: Write a function that takes in a board and a mark (X or O) and then checks to see if that mark has won.**"
   ]
  },
  {
   "cell_type": "code",
   "execution_count": 11,
   "metadata": {},
   "outputs": [
    {
     "data": {
      "text/plain": [
       "'$'"
      ]
     },
     "execution_count": 11,
     "metadata": {},
     "output_type": "execute_result"
    }
   ],
   "source": [
    "test_board[8]"
   ]
  },
  {
   "cell_type": "code",
   "execution_count": 12,
   "metadata": {},
   "outputs": [],
   "source": [
    "def win_check(board, mark):\n",
    "    # Creating an empty list to add all the correct values to\n",
    "    board_check = []\n",
    "    # These are all the winning options in Tic-Tac-Toe\n",
    "    chance_dict = {1: [1,2,3],\n",
    "                   2: [4,5,6],\n",
    "                   3: [7,8,9],\n",
    "                   4: [1,4,7],\n",
    "                   5: [2,5,8],\n",
    "                   6: [3,6,9],\n",
    "                   7: [1,5,9],\n",
    "                   8: [3,5,7]}\n",
    "\n",
    "\n",
    "    # Creating a for loop to run through the dictionary of winning options\n",
    "    for key,value in chance_dict.items():\n",
    "        \n",
    "        # Running though each key, value pairing\n",
    "        # It runs through the first key, value pair\n",
    "        for num in value:\n",
    "            \n",
    "            # If the board number list matches the mark it adds that mark to board_check list\n",
    "            if board[num] == mark:\n",
    "                board_check.append(mark)\n",
    "        # Checks to see if that grouping has three of the markings\n",
    "        if board_check == ['X', 'X', 'X'] or board_check == ['O', 'O', 'O']:\n",
    "            #Return True if is has all three\n",
    "            return True \n",
    "        # If it doesn't have 3 then it overwrites that list with a new empty list to run through loop again\n",
    "        else:\n",
    "            board_check = []\n",
    "    # If it goes through all values and there are no winning games it returns False            \n",
    "    return False\n"
   ]
  },
  {
   "cell_type": "markdown",
   "metadata": {},
   "source": [
    "**TEST Step 4:** run the win_check function against our test_board - it should return True"
   ]
  },
  {
   "cell_type": "code",
   "execution_count": 13,
   "metadata": {},
   "outputs": [
    {
     "data": {
      "text/plain": [
       "True"
      ]
     },
     "execution_count": 13,
     "metadata": {},
     "output_type": "execute_result"
    }
   ],
   "source": [
    "win_check(test_board,'X')"
   ]
  },
  {
   "cell_type": "markdown",
   "metadata": {},
   "source": [
    "**Step 5: Write a function that uses the random module to randomly decide which player goes first. You may want to lookup random.randint() Return a string of which player went first.**"
   ]
  },
  {
   "cell_type": "code",
   "execution_count": 68,
   "metadata": {},
   "outputs": [],
   "source": [
    "import random\n",
    "\n",
    "def choose_first():\n",
    "    num = random.randint(1,2)\n",
    "    if num == 1:\n",
    "        return 'Player 1'\n",
    "    else:\n",
    "        return 'Player 2'"
   ]
  },
  {
   "cell_type": "code",
   "execution_count": 69,
   "metadata": {},
   "outputs": [
    {
     "data": {
      "text/plain": [
       "'Player 1'"
      ]
     },
     "execution_count": 69,
     "metadata": {},
     "output_type": "execute_result"
    }
   ],
   "source": [
    "choose_first()"
   ]
  },
  {
   "cell_type": "markdown",
   "metadata": {},
   "source": [
    "**Step 6: Write a function that returns a boolean indicating whether a space on the board is freely available.**"
   ]
  },
  {
   "cell_type": "code",
   "execution_count": 16,
   "metadata": {},
   "outputs": [],
   "source": [
    "def space_check(board, position):\n",
    "    return board[position] == ' '\n",
    "    "
   ]
  },
  {
   "cell_type": "code",
   "execution_count": 17,
   "metadata": {},
   "outputs": [
    {
     "data": {
      "text/plain": [
       "False"
      ]
     },
     "execution_count": 17,
     "metadata": {},
     "output_type": "execute_result"
    }
   ],
   "source": [
    "space_check(test_board,6)"
   ]
  },
  {
   "cell_type": "code",
   "execution_count": 18,
   "metadata": {},
   "outputs": [
    {
     "data": {
      "text/plain": [
       "True"
      ]
     },
     "execution_count": 18,
     "metadata": {},
     "output_type": "execute_result"
    }
   ],
   "source": [
    "space_check(empty_board,9)"
   ]
  },
  {
   "cell_type": "markdown",
   "metadata": {},
   "source": [
    "**Step 7: Write a function that checks if the board is full and returns a boolean value. True if full, False otherwise.**"
   ]
  },
  {
   "cell_type": "code",
   "execution_count": 19,
   "metadata": {},
   "outputs": [],
   "source": [
    "def full_board_check(board):\n",
    "    char_list = []\n",
    "    for char in board:\n",
    "        if char != ' ':\n",
    "            char_list.append(char)\n",
    "    return len(char_list) == 10"
   ]
  },
  {
   "cell_type": "code",
   "execution_count": 20,
   "metadata": {},
   "outputs": [
    {
     "data": {
      "text/plain": [
       "True"
      ]
     },
     "execution_count": 20,
     "metadata": {},
     "output_type": "execute_result"
    }
   ],
   "source": [
    "full_board_check(test_board)"
   ]
  },
  {
   "cell_type": "code",
   "execution_count": 21,
   "metadata": {},
   "outputs": [
    {
     "data": {
      "text/plain": [
       "False"
      ]
     },
     "execution_count": 21,
     "metadata": {},
     "output_type": "execute_result"
    }
   ],
   "source": [
    "full_board_check(empty_board)"
   ]
  },
  {
   "cell_type": "markdown",
   "metadata": {},
   "source": [
    "**Step 8: Write a function that asks for a player's next position (as a number 1-9) and then uses the function from step 6 to check if it's a free position. If it is, then return the position for later use.**"
   ]
  },
  {
   "cell_type": "code",
   "execution_count": 22,
   "metadata": {},
   "outputs": [],
   "source": [
    "def player_choice(board):\n",
    "    \n",
    "    choice = 'wrong'\n",
    "    \n",
    "    while choice not in range(1,10):\n",
    "        \n",
    "        choice = int(input(\"Choose a spot!! 1-9 \"))\n",
    "        \n",
    "        if choice in range(1,10):\n",
    "            second_choice = False\n",
    "            while second_choice != True:\n",
    "                if choice in range(1,10):\n",
    "                    if space_check(board,choice) == True:\n",
    "#                         board[choice] = '-'\n",
    "#                         second_choice = True\n",
    "                        return choice\n",
    "                    else:\n",
    "                        print(\"That space is filled please pick a different number. (1-9) \")\n",
    "                        choice = int(input(\"Choose next spot!! 1-9 \"))\n",
    "                else:\n",
    "                    print(\"Please type a number 1-9!\")\n",
    "                    choice = int(input(\"Choose next spot!! 1-9 \"))\n",
    "        else:\n",
    "            print(\"Please type a number 1-9!\")"
   ]
  },
  {
   "cell_type": "code",
   "execution_count": 25,
   "metadata": {
    "scrolled": true
   },
   "outputs": [
    {
     "name": "stdout",
     "output_type": "stream",
     "text": [
      "Choose a spot!! 1-9 10\n",
      "Please type a number 1-9!\n",
      "Choose a spot!! 1-9 11\n",
      "Please type a number 1-9!\n",
      "Choose a spot!! 1-9 5\n"
     ]
    },
    {
     "data": {
      "text/plain": [
       "5"
      ]
     },
     "execution_count": 25,
     "metadata": {},
     "output_type": "execute_result"
    }
   ],
   "source": [
    "player_choice(empty_board)"
   ]
  },
  {
   "cell_type": "code",
   "execution_count": 26,
   "metadata": {},
   "outputs": [
    {
     "data": {
      "text/plain": [
       "['#', ' ', ' ', ' ', ' ', ' ', ' ', ' ', '$', ' ']"
      ]
     },
     "execution_count": 26,
     "metadata": {},
     "output_type": "execute_result"
    }
   ],
   "source": [
    "empty_board"
   ]
  },
  {
   "cell_type": "markdown",
   "metadata": {},
   "source": [
    "**Step 9: Write a function that asks the player if they want to play again and returns a boolean True if they do want to play again.**"
   ]
  },
  {
   "cell_type": "code",
   "execution_count": 58,
   "metadata": {},
   "outputs": [],
   "source": [
    "def replay():\n",
    "    choice = 'wrong'\n",
    "    while choice not in ['Y', 'N']:\n",
    "        choice = input('Would you like to play again??? (Y/N)').upper()\n",
    "        clear_output()\n",
    "        \n",
    "        if choice == 'Y':\n",
    "            print('OK!! Let\\'s play again!!')\n",
    "            return True\n",
    "        elif choice == 'N':\n",
    "            print('Alright, until next time')\n",
    "            return False\n",
    "        else:\n",
    "            print(\"Please pick between 'Y' or 'N'\")"
   ]
  },
  {
   "cell_type": "code",
   "execution_count": 28,
   "metadata": {},
   "outputs": [
    {
     "name": "stdout",
     "output_type": "stream",
     "text": [
      "OK!! Let's play again!!\n"
     ]
    },
    {
     "data": {
      "text/plain": [
       "True"
      ]
     },
     "execution_count": 28,
     "metadata": {},
     "output_type": "execute_result"
    }
   ],
   "source": [
    "replay()"
   ]
  },
  {
   "cell_type": "markdown",
   "metadata": {
    "collapsed": true
   },
   "source": [
    "**Step 10: Here comes the hard part! Use while loops and the functions you've made to run the game!**"
   ]
  },
  {
   "cell_type": "code",
   "execution_count": 76,
   "metadata": {
    "scrolled": true
   },
   "outputs": [
    {
     "name": "stdout",
     "output_type": "stream",
     "text": [
      "Alright, until next time\n"
     ]
    }
   ],
   "source": [
    "print('Welcome to Tic Tac Toe!')\n",
    "\n",
    "while True:\n",
    "    the_board = ['#', ' ', ' ', ' ', ' ', ' ', ' ', ' ', ' ', ' ']\n",
    "    \n",
    "    # Set the game up here\n",
    "    player_1, player_2 = player_input()\n",
    "    turn = choose_first()\n",
    "    print(turn + ' will go first!')\n",
    "    \n",
    "    play_game = input(\"Do you want to play? (Y/N)\").lower()\n",
    "    \n",
    "    if play_game == 'y':\n",
    "        game_on = True\n",
    "    else:\n",
    "        game_on = False\n",
    "\n",
    "    while game_on:\n",
    "        #Player 1 Turn\n",
    "\n",
    "        if turn == 'Player 1':\n",
    "            \n",
    "            display_board(the_board)\n",
    "            position = player_choice(the_board)\n",
    "            place_marker(the_board, player_1, position)\n",
    "            \n",
    "            if win_check(the_board, player_1):\n",
    "                display_board(the_board)\n",
    "                print(\"You win Player 1!\")\n",
    "                game_on = False\n",
    "            else:\n",
    "                if full_board_check(the_board):\n",
    "                    display_board(the_board)\n",
    "                    print('Cat\\'s Game!')\n",
    "                    game_on = False\n",
    "                    break\n",
    "                else:\n",
    "                     turn = 'Player 2'   \n",
    "                \n",
    "        \n",
    "        # Player2's turn.\n",
    "        else:\n",
    "            \n",
    "            display_board(the_board)\n",
    "            position = player_choice(the_board)\n",
    "            place_marker(the_board, player_2, position)\n",
    "\n",
    "            if win_check(the_board, player_2):\n",
    "                display_board(the_board)\n",
    "                print(\"You win! Player 2!\")\n",
    "                game_on = False\n",
    "            else:\n",
    "                if full_board_check(the_board):\n",
    "                    display_board(the_board)\n",
    "                    print('Cat\\'s Game!')\n",
    "                    game_on = False\n",
    "                    break\n",
    "                else:\n",
    "                     turn = 'Player 1' \n",
    "    if not replay():\n",
    "        break"
   ]
  },
  {
   "cell_type": "code",
   "execution_count": 38,
   "metadata": {},
   "outputs": [
    {
     "data": {
      "text/plain": [
       "['#', 'X', 'X', 'X', 'X', 'X', 'X', 'X', 'X', 'X']"
      ]
     },
     "execution_count": 38,
     "metadata": {},
     "output_type": "execute_result"
    }
   ],
   "source": [
    "the_board"
   ]
  },
  {
   "cell_type": "markdown",
   "metadata": {
    "collapsed": true
   },
   "source": [
    "## Good Job!"
   ]
  },
  {
   "cell_type": "code",
   "execution_count": null,
   "metadata": {},
   "outputs": [],
   "source": []
  }
 ],
 "metadata": {
  "kernelspec": {
   "display_name": "Python 3",
   "language": "python",
   "name": "python3"
  },
  "language_info": {
   "codemirror_mode": {
    "name": "ipython",
    "version": 3
   },
   "file_extension": ".py",
   "mimetype": "text/x-python",
   "name": "python",
   "nbconvert_exporter": "python",
   "pygments_lexer": "ipython3",
   "version": "3.7.6"
  }
 },
 "nbformat": 4,
 "nbformat_minor": 1
}
